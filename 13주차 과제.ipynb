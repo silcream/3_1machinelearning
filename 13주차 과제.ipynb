{
 "cells": [
  {
   "cell_type": "code",
   "execution_count": 1,
   "id": "77e6ed3c",
   "metadata": {},
   "outputs": [],
   "source": [
    "## 데이터 전처리\n",
    "\n",
    "import pandas as pd\n",
    "import numpy as np\n",
    "import sys\n",
    "import pickle\n",
    "import itertools\n",
    "\n",
    "## 데이터 시각화\n",
    "import seaborn as sb\n",
    "import matplotlib.pyplot as plt\n",
    "from matplotlib import font_manager, rc\n",
    "## 딥러닝 모델링\n",
    "\n",
    "from sklearn import metrics\n",
    "from sklearn.metrics import accuracy_score\n",
    "from sklearn.metrics import classification_report, confusion_matrix\n",
    "from sklearn import tree\n",
    "from sklearn.ensemble import RandomForestClassifier\n",
    "from sklearn.linear_model import LogisticRegression\n",
    "from sklearn.ensemble import RandomForestClassifier\n",
    "from sklearn.preprocessing import MinMaxScaler\n",
    "from sklearn.preprocessing import StandardScaler\n",
    "from sklearn.model_selection import train_test_split\n",
    "from xgboost import XGBClassifier\n",
    "import joblib\n",
    "import warnings\n",
    "np.set_printoptions(threshold=sys.maxsize)\n",
    "warnings.filterwarnings(action='ignore')"
   ]
  },
  {
   "cell_type": "code",
   "execution_count": 2,
   "id": "7a0efe65",
   "metadata": {},
   "outputs": [],
   "source": [
    "from sklearn.preprocessing import StandardScaler, MinMaxScaler\n",
    "scaler  = MinMaxScaler()"
   ]
  },
  {
   "cell_type": "code",
   "execution_count": 3,
   "id": "769fc0be",
   "metadata": {},
   "outputs": [],
   "source": [
    "with open(\"C:/Users/Flora/3-1교과목 머신러닝/사출 data.pickle\",\"rb\") as file:\n",
    "    data=pickle.load(file)"
   ]
  },
  {
   "cell_type": "code",
   "execution_count": 4,
   "id": "7a542a82",
   "metadata": {},
   "outputs": [
    {
     "data": {
      "text/html": [
       "<div>\n",
       "<style scoped>\n",
       "    .dataframe tbody tr th:only-of-type {\n",
       "        vertical-align: middle;\n",
       "    }\n",
       "\n",
       "    .dataframe tbody tr th {\n",
       "        vertical-align: top;\n",
       "    }\n",
       "\n",
       "    .dataframe thead th {\n",
       "        text-align: right;\n",
       "    }\n",
       "</style>\n",
       "<table border=\"1\" class=\"dataframe\">\n",
       "  <thead>\n",
       "    <tr style=\"text-align: right;\">\n",
       "      <th></th>\n",
       "      <th>temp_in_value</th>\n",
       "      <th>temp_out_value</th>\n",
       "      <th>error</th>\n",
       "    </tr>\n",
       "  </thead>\n",
       "  <tbody>\n",
       "    <tr>\n",
       "      <th>10678</th>\n",
       "      <td>[19.582808724763904, 19.59236131438574, 19.573...</td>\n",
       "      <td>[24.693444172446192, 24.674338993202518, 24.66...</td>\n",
       "      <td>0.0</td>\n",
       "    </tr>\n",
       "    <tr>\n",
       "      <th>10679</th>\n",
       "      <td>[18.732628248420493, 18.780391196529674, 18.81...</td>\n",
       "      <td>[23.976999950808487, 23.96744736118665, 24.168...</td>\n",
       "      <td>0.0</td>\n",
       "    </tr>\n",
       "    <tr>\n",
       "      <th>10680</th>\n",
       "      <td>[18.761286017286004, 18.751733427664167, 18.71...</td>\n",
       "      <td>[24.540602738496816, 24.53105014887498, 24.511...</td>\n",
       "      <td>0.0</td>\n",
       "    </tr>\n",
       "    <tr>\n",
       "      <th>10681</th>\n",
       "      <td>[18.91412745123538, 18.91412745123538, 18.9141...</td>\n",
       "      <td>[24.473734611143964, 24.464182021522124, 24.50...</td>\n",
       "      <td>0.0</td>\n",
       "    </tr>\n",
       "    <tr>\n",
       "      <th>10682</th>\n",
       "      <td>[18.81860155501702, 18.81860155501702, 18.7803...</td>\n",
       "      <td>[24.33044576681642, 24.292235408329077, 24.282...</td>\n",
       "      <td>0.0</td>\n",
       "    </tr>\n",
       "    <tr>\n",
       "      <th>...</th>\n",
       "      <td>...</td>\n",
       "      <td>...</td>\n",
       "      <td>...</td>\n",
       "    </tr>\n",
       "    <tr>\n",
       "      <th>108420</th>\n",
       "      <td>[18.81860155501702, 18.856811913504362, 18.856...</td>\n",
       "      <td>[18.789943786151515, 18.952337809722724, 18.92...</td>\n",
       "      <td>0.0</td>\n",
       "    </tr>\n",
       "    <tr>\n",
       "      <th>108421</th>\n",
       "      <td>[19.64012426249492, 19.621019083251248, 19.640...</td>\n",
       "      <td>[19.219810319134133, 19.238915498377807, 19.13...</td>\n",
       "      <td>0.0</td>\n",
       "    </tr>\n",
       "    <tr>\n",
       "      <th>108422</th>\n",
       "      <td>[18.21678840884135, 18.293209125816034, 18.302...</td>\n",
       "      <td>[17.79647446548056, 18.293209125816034, 18.321...</td>\n",
       "      <td>0.0</td>\n",
       "    </tr>\n",
       "    <tr>\n",
       "      <th>108423</th>\n",
       "      <td>[19.028758526697416, 19.03831111631925, 19.028...</td>\n",
       "      <td>[19.29623103610882, 19.29623103610882, 19.3057...</td>\n",
       "      <td>0.0</td>\n",
       "    </tr>\n",
       "    <tr>\n",
       "      <th>108424</th>\n",
       "      <td>[19.429967290814528, 19.391756932327183, 19.36...</td>\n",
       "      <td>[18.570234224849283, 18.637102352202135, 18.60...</td>\n",
       "      <td>0.0</td>\n",
       "    </tr>\n",
       "  </tbody>\n",
       "</table>\n",
       "<p>97747 rows × 3 columns</p>\n",
       "</div>"
      ],
      "text/plain": [
       "                                            temp_in_value  \\\n",
       "10678   [19.582808724763904, 19.59236131438574, 19.573...   \n",
       "10679   [18.732628248420493, 18.780391196529674, 18.81...   \n",
       "10680   [18.761286017286004, 18.751733427664167, 18.71...   \n",
       "10681   [18.91412745123538, 18.91412745123538, 18.9141...   \n",
       "10682   [18.81860155501702, 18.81860155501702, 18.7803...   \n",
       "...                                                   ...   \n",
       "108420  [18.81860155501702, 18.856811913504362, 18.856...   \n",
       "108421  [19.64012426249492, 19.621019083251248, 19.640...   \n",
       "108422  [18.21678840884135, 18.293209125816034, 18.302...   \n",
       "108423  [19.028758526697416, 19.03831111631925, 19.028...   \n",
       "108424  [19.429967290814528, 19.391756932327183, 19.36...   \n",
       "\n",
       "                                           temp_out_value  error  \n",
       "10678   [24.693444172446192, 24.674338993202518, 24.66...    0.0  \n",
       "10679   [23.976999950808487, 23.96744736118665, 24.168...    0.0  \n",
       "10680   [24.540602738496816, 24.53105014887498, 24.511...    0.0  \n",
       "10681   [24.473734611143964, 24.464182021522124, 24.50...    0.0  \n",
       "10682   [24.33044576681642, 24.292235408329077, 24.282...    0.0  \n",
       "...                                                   ...    ...  \n",
       "108420  [18.789943786151515, 18.952337809722724, 18.92...    0.0  \n",
       "108421  [19.219810319134133, 19.238915498377807, 19.13...    0.0  \n",
       "108422  [17.79647446548056, 18.293209125816034, 18.321...    0.0  \n",
       "108423  [19.29623103610882, 19.29623103610882, 19.3057...    0.0  \n",
       "108424  [18.570234224849283, 18.637102352202135, 18.60...    0.0  \n",
       "\n",
       "[97747 rows x 3 columns]"
      ]
     },
     "execution_count": 4,
     "metadata": {},
     "output_type": "execute_result"
    }
   ],
   "source": [
    "normal=data[data['error']==0]\n",
    "normal"
   ]
  },
  {
   "cell_type": "code",
   "execution_count": 5,
   "id": "3c62d3c9",
   "metadata": {},
   "outputs": [
    {
     "name": "stdout",
     "output_type": "stream",
     "text": [
      "정상 갯수: 97747\n"
     ]
    }
   ],
   "source": [
    "print(\"정상 갯수:\",len(normal))"
   ]
  },
  {
   "cell_type": "code",
   "execution_count": 6,
   "id": "51a5dd6d",
   "metadata": {},
   "outputs": [
    {
     "data": {
      "text/html": [
       "<div>\n",
       "<style scoped>\n",
       "    .dataframe tbody tr th:only-of-type {\n",
       "        vertical-align: middle;\n",
       "    }\n",
       "\n",
       "    .dataframe tbody tr th {\n",
       "        vertical-align: top;\n",
       "    }\n",
       "\n",
       "    .dataframe thead th {\n",
       "        text-align: right;\n",
       "    }\n",
       "</style>\n",
       "<table border=\"1\" class=\"dataframe\">\n",
       "  <thead>\n",
       "    <tr style=\"text-align: right;\">\n",
       "      <th></th>\n",
       "      <th>temp_in_value</th>\n",
       "      <th>temp_out_value</th>\n",
       "      <th>error</th>\n",
       "    </tr>\n",
       "  </thead>\n",
       "  <tbody>\n",
       "    <tr>\n",
       "      <th>0</th>\n",
       "      <td>[26.22185851193996, 26.231411101561797, 26.202...</td>\n",
       "      <td>[26.403357714754843, 26.3651473562675, 26.3460...</td>\n",
       "      <td>1.0</td>\n",
       "    </tr>\n",
       "    <tr>\n",
       "      <th>1</th>\n",
       "      <td>[26.231411101561797, 26.202753332696286, 26.21...</td>\n",
       "      <td>[26.3651473562675, 26.346042177023826, 26.3269...</td>\n",
       "      <td>1.0</td>\n",
       "    </tr>\n",
       "    <tr>\n",
       "      <th>2</th>\n",
       "      <td>[26.202753332696286, 26.212305922318123, 26.19...</td>\n",
       "      <td>[26.346042177023826, 26.326936997780155, 26.31...</td>\n",
       "      <td>1.0</td>\n",
       "    </tr>\n",
       "    <tr>\n",
       "      <th>3</th>\n",
       "      <td>[26.212305922318123, 26.193200743074453, 26.68...</td>\n",
       "      <td>[26.326936997780155, 26.317384408158322, 26.31...</td>\n",
       "      <td>1.0</td>\n",
       "    </tr>\n",
       "    <tr>\n",
       "      <th>4</th>\n",
       "      <td>[26.193200743074453, 26.68038281378809, 26.861...</td>\n",
       "      <td>[26.317384408158322, 26.317384408158322, 26.30...</td>\n",
       "      <td>1.0</td>\n",
       "    </tr>\n",
       "    <tr>\n",
       "      <th>...</th>\n",
       "      <td>...</td>\n",
       "      <td>...</td>\n",
       "      <td>...</td>\n",
       "    </tr>\n",
       "    <tr>\n",
       "      <th>10673</th>\n",
       "      <td>[18.369629842790726, 18.369629842790726, 18.36...</td>\n",
       "      <td>[18.627549762580298, 18.627549762580298, 18.64...</td>\n",
       "      <td>1.0</td>\n",
       "    </tr>\n",
       "    <tr>\n",
       "      <th>10674</th>\n",
       "      <td>[18.369629842790726, 18.369629842790726, 18.36...</td>\n",
       "      <td>[18.627549762580298, 18.64665494182397, 18.436...</td>\n",
       "      <td>1.0</td>\n",
       "    </tr>\n",
       "    <tr>\n",
       "      <th>10675</th>\n",
       "      <td>[18.369629842790726, 18.369629842790726, 18.36...</td>\n",
       "      <td>[18.64665494182397, 18.436497970143577, 18.426...</td>\n",
       "      <td>1.0</td>\n",
       "    </tr>\n",
       "    <tr>\n",
       "      <th>10676</th>\n",
       "      <td>[18.369629842790726, 18.369629842790726, 18.19...</td>\n",
       "      <td>[18.436497970143577, 18.42694538052174, 18.216...</td>\n",
       "      <td>1.0</td>\n",
       "    </tr>\n",
       "    <tr>\n",
       "      <th>10677</th>\n",
       "      <td>[18.369629842790726, 18.197683229597676, 17.72...</td>\n",
       "      <td>[18.42694538052174, 18.21678840884135, 18.2263...</td>\n",
       "      <td>1.0</td>\n",
       "    </tr>\n",
       "  </tbody>\n",
       "</table>\n",
       "<p>10678 rows × 3 columns</p>\n",
       "</div>"
      ],
      "text/plain": [
       "                                           temp_in_value  \\\n",
       "0      [26.22185851193996, 26.231411101561797, 26.202...   \n",
       "1      [26.231411101561797, 26.202753332696286, 26.21...   \n",
       "2      [26.202753332696286, 26.212305922318123, 26.19...   \n",
       "3      [26.212305922318123, 26.193200743074453, 26.68...   \n",
       "4      [26.193200743074453, 26.68038281378809, 26.861...   \n",
       "...                                                  ...   \n",
       "10673  [18.369629842790726, 18.369629842790726, 18.36...   \n",
       "10674  [18.369629842790726, 18.369629842790726, 18.36...   \n",
       "10675  [18.369629842790726, 18.369629842790726, 18.36...   \n",
       "10676  [18.369629842790726, 18.369629842790726, 18.19...   \n",
       "10677  [18.369629842790726, 18.197683229597676, 17.72...   \n",
       "\n",
       "                                          temp_out_value  error  \n",
       "0      [26.403357714754843, 26.3651473562675, 26.3460...    1.0  \n",
       "1      [26.3651473562675, 26.346042177023826, 26.3269...    1.0  \n",
       "2      [26.346042177023826, 26.326936997780155, 26.31...    1.0  \n",
       "3      [26.326936997780155, 26.317384408158322, 26.31...    1.0  \n",
       "4      [26.317384408158322, 26.317384408158322, 26.30...    1.0  \n",
       "...                                                  ...    ...  \n",
       "10673  [18.627549762580298, 18.627549762580298, 18.64...    1.0  \n",
       "10674  [18.627549762580298, 18.64665494182397, 18.436...    1.0  \n",
       "10675  [18.64665494182397, 18.436497970143577, 18.426...    1.0  \n",
       "10676  [18.436497970143577, 18.42694538052174, 18.216...    1.0  \n",
       "10677  [18.42694538052174, 18.21678840884135, 18.2263...    1.0  \n",
       "\n",
       "[10678 rows x 3 columns]"
      ]
     },
     "execution_count": 6,
     "metadata": {},
     "output_type": "execute_result"
    }
   ],
   "source": [
    "error=data[data['error']==1]\n",
    "error"
   ]
  },
  {
   "cell_type": "code",
   "execution_count": 7,
   "id": "fec07c2a",
   "metadata": {},
   "outputs": [
    {
     "name": "stdout",
     "output_type": "stream",
     "text": [
      "불량 갯수: 10678\n"
     ]
    }
   ],
   "source": [
    "print(\"불량 갯수:\",len(error))"
   ]
  },
  {
   "cell_type": "code",
   "execution_count": 8,
   "id": "1ffb890b",
   "metadata": {},
   "outputs": [
    {
     "name": "stdout",
     "output_type": "stream",
     "text": [
      "<class 'pandas.core.frame.DataFrame'>\n",
      "RangeIndex: 108425 entries, 0 to 108424\n",
      "Data columns (total 3 columns):\n",
      " #   Column          Non-Null Count   Dtype  \n",
      "---  ------          --------------   -----  \n",
      " 0   temp_in_value   108425 non-null  object \n",
      " 1   temp_out_value  108425 non-null  object \n",
      " 2   error           108425 non-null  float64\n",
      "dtypes: float64(1), object(2)\n",
      "memory usage: 2.5+ MB\n"
     ]
    }
   ],
   "source": [
    "data.info()"
   ]
  },
  {
   "cell_type": "code",
   "execution_count": 9,
   "id": "d131d1a4",
   "metadata": {},
   "outputs": [
    {
     "name": "stdout",
     "output_type": "stream",
     "text": [
      "<class 'pandas.core.frame.DataFrame'>\n",
      "RangeIndex: 108425 entries, 0 to 108424\n",
      "Data columns (total 3 columns):\n",
      " #   Column          Non-Null Count   Dtype \n",
      "---  ------          --------------   ----- \n",
      " 0   temp_in_value   108425 non-null  object\n",
      " 1   temp_out_value  108425 non-null  object\n",
      " 2   error           108425 non-null  int32 \n",
      "dtypes: int32(1), object(2)\n",
      "memory usage: 2.1+ MB\n"
     ]
    }
   ],
   "source": [
    "data['error']=data['error'].astype(int)\n",
    "\n",
    "data.info()"
   ]
  },
  {
   "cell_type": "code",
   "execution_count": 10,
   "id": "230cbda9",
   "metadata": {},
   "outputs": [],
   "source": [
    "font_path=\"C:/Windows/Fonts/NGULIM.TTF\"\n",
    "font = font_manager.FontProperties(fname=font_path).get_name()\n",
    "plt.rc('font',family=font)"
   ]
  },
  {
   "cell_type": "code",
   "execution_count": 11,
   "id": "40ad214a",
   "metadata": {},
   "outputs": [
    {
     "data": {
      "image/png": "[encoded data removed]",
      "text/plain": [
       "<Figure size 432x288 with 1 Axes>"
      ]
     },
     "metadata": {
      "needs_background": "light"
     },
     "output_type": "display_data"
    }
   ],
   "source": [
    "plt.plot(normal['temp_in_value'].iloc[0],'green',label='Temperature')\n",
    "plt.xlabel(\"Time(초)\")\n",
    "plt.ylabel(\"Temperature\\n(°C)\",rotation=0)\n",
    "plt.title(\"Normal Pattern_temp_in\")\n",
    "plt.legend()\n",
    "plt.show()"
   ]
  },
  {
   "cell_type": "code",
   "execution_count": 12,
   "id": "a6790cf6",
   "metadata": {},
   "outputs": [
    {
     "data": {
      "image/png": "[encoded data removed]",
      "text/plain": [
       "<Figure size 432x288 with 1 Axes>"
      ]
     },
     "metadata": {
      "needs_background": "light"
     },
     "output_type": "display_data"
    }
   ],
   "source": [
    "plt.plot(normal['temp_out_value'].iloc[0],'green',label='Temperature')\n",
    "plt.xlabel(\"Time(초)\")\n",
    "plt.ylabel(\"Temperature\\n(°C)\",rotation=0)\n",
    "plt.title(\"Normal Pattern_temp_out\")\n",
    "plt.legend()\n",
    "plt.show()"
   ]
  },
  {
   "cell_type": "code",
   "execution_count": 13,
   "id": "d714dda2",
   "metadata": {},
   "outputs": [
    {
     "data": {
      "image/png": "[encoded data removed]",
      "text/plain": [
       "<Figure size 432x288 with 1 Axes>"
      ]
     },
     "metadata": {
      "needs_background": "light"
     },
     "output_type": "display_data"
    }
   ],
   "source": [
    "plt.plot(error['temp_in_value'].iloc[0],'r',label='Temperature')\n",
    "plt.xlabel(\"Time(초)\")\n",
    "plt.ylabel(\"Temperature\\n(°C)\",rotation=0)\n",
    "plt.title(\"Error Pattern_temp_in\")\n",
    "plt.legend()\n",
    "plt.show()"
   ]
  },
  {
   "cell_type": "code",
   "execution_count": 14,
   "id": "019df3e9",
   "metadata": {},
   "outputs": [
    {
     "data": {
      "image/png": "[encoded data removed]",
      "text/plain": [
       "<Figure size 432x288 with 1 Axes>"
      ]
     },
     "metadata": {
      "needs_background": "light"
     },
     "output_type": "display_data"
    }
   ],
   "source": [
    "plt.plot(error['temp_out_value'].iloc[0],'r',label='Temperature')\n",
    "plt.xlabel(\"Time(초)\")\n",
    "plt.ylabel(\"Temperature\\n(°C)\",rotation=0)\n",
    "plt.title(\"Error Pattern_temp_out\")\n",
    "plt.legend()\n",
    "plt.show()"
   ]
  },
  {
   "cell_type": "code",
   "execution_count": 15,
   "id": "191e6535",
   "metadata": {},
   "outputs": [],
   "source": [
    "data_in_length=[]\n",
    "data_out_length=[]\n",
    "\n",
    "for i in range(len(normal)):\n",
    "    temp_in_length=len(normal['temp_in_value'].iloc[i])\n",
    "    temp_out_length=len(normal['temp_out_value'].iloc[i])\n",
    "    data_in_length.append(temp_in_length)\n",
    "    data_out_length.append(temp_out_length)\n",
    "    \n",
    "normal['temp_in_length']=data_in_length\n",
    "normal['temp_out_length']=data_out_length"
   ]
  },
  {
   "cell_type": "code",
   "execution_count": 16,
   "id": "263e2b92",
   "metadata": {},
   "outputs": [
    {
     "name": "stdout",
     "output_type": "stream",
     "text": [
      "냉각수 입구 온도 데이터 종류: {120}\n"
     ]
    }
   ],
   "source": [
    "print(\"냉각수 입구 온도 데이터 종류:\",set(normal['temp_in_length']))"
   ]
  },
  {
   "cell_type": "code",
   "execution_count": 17,
   "id": "688a96c7",
   "metadata": {},
   "outputs": [
    {
     "name": "stdout",
     "output_type": "stream",
     "text": [
      "냉각수 출구 온도 데이터 종류: {120}\n"
     ]
    }
   ],
   "source": [
    "print(\"냉각수 출구 온도 데이터 종류:\",set(normal['temp_out_length']))"
   ]
  },
  {
   "cell_type": "code",
   "execution_count": 18,
   "id": "c445d649",
   "metadata": {},
   "outputs": [],
   "source": [
    "X_in=np.array(list(itertools.chain.from_iterable(data['temp_in_value'])))\n",
    "\n",
    "X_in=X_in.reshape(-1,120)\n",
    "\n",
    "X_out=np.array(list(itertools.chain.from_iterable(data['temp_out_value'])))\n",
    "\n",
    "X_out=X_out.reshape(-1,120)\n",
    "\n",
    "X=np.concatenate([X_in,X_out],axis=1)\n",
    "\n",
    "Y=np.array(data['error'])\n",
    "\n",
    "Y=Y.reshape(-1,1)"
   ]
  },
  {
   "cell_type": "code",
   "execution_count": 19,
   "id": "25f244cb",
   "metadata": {},
   "outputs": [
    {
     "data": {
      "text/plain": [
       "array([26.8809872 , 26.86188202, 26.87143461, 26.83322425, 26.83322425,\n",
       "       26.82367166, 26.83322425, 26.81411907, 26.34604218, 26.0499119 ,\n",
       "       26.09767485, 26.15499038, 26.17409556, 26.16454297, 26.16454297,\n",
       "       26.16454297, 26.21230592, 26.25051628, 26.25051628, 26.25051628,\n",
       "       26.25051628, 26.25051628, 26.26006887, 26.74725094, 26.74725094,\n",
       "       26.76635612, 26.76635612, 26.77590871, 26.76635612, 26.77590871,\n",
       "       26.77590871, 26.7854613 , 26.79501389, 26.82367166, 26.80456648,\n",
       "       26.81411907, 26.84277684, 26.82367166, 26.84277684, 26.85232943,\n",
       "       27.02427604, 26.8809872 , 26.84277684, 26.80456648, 26.76635612,\n",
       "       26.74725094, 26.74725094, 26.70904058, 26.63261987, 26.61351469,\n",
       "       26.59440951, 26.56575174, 26.57530433, 26.58485692, 26.34604218,\n",
       "       26.34604218, 26.26962146, 26.05946449, 26.03080672, 26.03080672,\n",
       "       25.99259636, 25.97349118, 25.98304377, 25.78243939, 25.74422903,\n",
       "       25.71557126, 25.62959796, 25.61049278, 25.58183501, 25.55317724,\n",
       "       25.76333421, 25.73467644, 26.19320074, 26.25051628, 26.22185851,\n",
       "       26.25051628, 26.25051628, 26.24096369, 26.21230592, 26.21230592,\n",
       "       26.20275333, 26.20275333, 26.17409556, 26.18364815, 26.17409556,\n",
       "       26.17409556, 25.99259636, 25.78243939, 25.78243939, 25.76333421,\n",
       "       25.7728868 , 25.7728868 , 25.7728868 , 25.80154457, 26.01170154,\n",
       "       26.04035931, 26.05946449, 26.08812226, 26.11678003, 26.14543779,\n",
       "       26.14543779, 26.15499038, 26.15499038, 26.04035931, 26.0499119 ,\n",
       "       26.03080672, 25.99259636, 25.93528082, 25.93528082, 25.6773609 ,\n",
       "       25.65825572, 25.61049278, 25.55317724, 25.54362465, 25.55317724,\n",
       "       25.53407206, 25.53407206, 25.50541429, 25.45765134, 25.41944098])"
      ]
     },
     "execution_count": 19,
     "metadata": {},
     "output_type": "execute_result"
    }
   ],
   "source": [
    "X_in[10]"
   ]
  },
  {
   "cell_type": "code",
   "execution_count": 20,
   "id": "a6af7f5e",
   "metadata": {},
   "outputs": [],
   "source": [
    "scaler.fit(X_in)\n",
    "\n",
    "X_in = scaler.transform(X_in)\n",
    "X_out = scaler.transform(X_out)"
   ]
  },
  {
   "cell_type": "code",
   "execution_count": 21,
   "id": "cded0c22",
   "metadata": {},
   "outputs": [
    {
     "data": {
      "text/plain": [
       "array([0.74322081, 0.73810856, 0.74125486, 0.73946785, 0.75594564,\n",
       "       0.74929893, 0.74319066, 0.7361894 , 0.70816901, 0.69343891,\n",
       "       0.69587337, 0.70204313, 0.71057094, 0.71469248, 0.7072758 ,\n",
       "       0.70173475, 0.70932157, 0.70424107, 0.70472441, 0.71731651,\n",
       "       0.71112372, 0.7077185 , 0.71477663, 0.73890785, 0.73681225,\n",
       "       0.74613181, 0.73839185, 0.74063564, 0.74713303, 0.73630717,\n",
       "       0.73464789, 0.74048836, 0.74189881, 0.74303582, 0.75242442,\n",
       "       0.74007826, 0.74247492, 0.74930671, 0.74614537, 0.74645583,\n",
       "       0.75788901, 0.74797188, 0.75027144, 0.74810401, 0.7468767 ,\n",
       "       0.74986346, 0.74813967, 0.74485126, 0.72758037, 0.72866026,\n",
       "       0.72400225, 0.7201346 , 0.74092686, 0.74440716, 0.73274974,\n",
       "       0.71546053, 0.71871539, 0.70951586, 0.69677066, 0.69829013,\n",
       "       0.69230769, 0.69362187, 0.69463087, 0.6785317 , 0.68486213,\n",
       "       0.67518046, 0.67693169, 0.66943522, 0.6893617 , 0.66365688,\n",
       "       0.6722878 , 0.68171429, 0.70232032, 0.70478873, 0.71428571,\n",
       "       0.71161473, 0.71338673, 0.71650374, 0.69910011, 0.70265687,\n",
       "       0.71191294, 0.70826211, 0.7003386 , 0.698484  , 0.6994382 ,\n",
       "       0.70140845, 0.68953881, 0.68020305, 0.6842703 , 0.67507003,\n",
       "       0.6799775 , 0.67823167, 0.68721719, 0.68199663, 0.69347582,\n",
       "       0.6983588 , 0.69746479, 0.69859155, 0.69708847, 0.70861678,\n",
       "       0.71037628, 0.6994382 , 0.70061902, 0.69386607, 0.68988764,\n",
       "       0.68820225, 0.68788732, 0.68721719, 0.69139966, 0.68618533,\n",
       "       0.67467859, 0.67089305, 0.66979569, 0.67342342, 0.67510063,\n",
       "       0.66425792, 0.66500277, 0.66685206, 0.66077348, 0.65837479])"
      ]
     },
     "execution_count": 21,
     "metadata": {},
     "output_type": "execute_result"
    }
   ],
   "source": [
    "X_in[10]"
   ]
  },
  {
   "cell_type": "code",
   "execution_count": 22,
   "id": "3ae169bf",
   "metadata": {},
   "outputs": [],
   "source": [
    "scaler = StandardScaler()\n",
    "scaler.fit(X_in)\n",
    "\n",
    "X_in = scaler.transform(X_in)\n",
    "X_out = scaler.transform(X_out)"
   ]
  },
  {
   "cell_type": "code",
   "execution_count": 23,
   "id": "424ecc7b",
   "metadata": {},
   "outputs": [
    {
     "data": {
      "text/plain": [
       "array([1.68950422, 1.68433794, 1.68746312, 1.67497882, 1.67440554,\n",
       "       1.67149046, 1.67573349, 1.66926047, 1.51532817, 1.41792148,\n",
       "       1.43368189, 1.4531798 , 1.45982227, 1.45740152, 1.45769422,\n",
       "       1.45709611, 1.47319791, 1.48588915, 1.48685865, 1.48626245,\n",
       "       1.48646783, 1.48663883, 1.48964383, 1.65103542, 1.65192754,\n",
       "       1.65768842, 1.65761424, 1.66141118, 1.6586341 , 1.66207251,\n",
       "       1.66196857, 1.66578244, 1.66899683, 1.67913362, 1.67301441,\n",
       "       1.67672056, 1.68546274, 1.67959939, 1.6856783 , 1.68904284,\n",
       "       1.74669958, 1.6986414 , 1.68716827, 1.67487593, 1.6617781 ,\n",
       "       1.65570435, 1.65591368, 1.64460083, 1.61891078, 1.6125717 ,\n",
       "       1.60656557, 1.59691932, 1.60048956, 1.60373868, 1.5239146 ,\n",
       "       1.52378002, 1.49911632, 1.42955712, 1.42122338, 1.42134628,\n",
       "       1.408779  , 1.4030916 , 1.40640876, 1.33960506, 1.32681805,\n",
       "       1.31820934, 1.28944688, 1.28388545, 1.27436977, 1.26601215,\n",
       "       1.33560427, 1.32598114, 1.47817039, 1.49709057, 1.48767338,\n",
       "       1.49680029, 1.49639878, 1.49423766, 1.4848007 , 1.48480572,\n",
       "       1.48207115, 1.48236103, 1.47329727, 1.47612568, 1.4732016 ,\n",
       "       1.47406845, 1.41441698, 1.34448668, 1.34465348, 1.33856593,\n",
       "       1.34073799, 1.34174607, 1.34262179, 1.35194363, 1.42141287,\n",
       "       1.43167646, 1.43790133, 1.44791756, 1.45865275, 1.46801509,\n",
       "       1.46816418, 1.4711468 , 1.47137093, 1.43369926, 1.43594063,\n",
       "       1.42997839, 1.41688454, 1.3976757 , 1.39800385, 1.31282134,\n",
       "       1.30684675, 1.29089403, 1.27182731, 1.26959529, 1.27286182,\n",
       "       1.26640739, 1.26675433, 1.2580092 , 1.24094742, 1.22901594])"
      ]
     },
     "execution_count": 23,
     "metadata": {},
     "output_type": "execute_result"
    }
   ],
   "source": [
    "X_in[10]"
   ]
  },
  {
   "cell_type": "code",
   "execution_count": 24,
   "id": "87c835fe",
   "metadata": {},
   "outputs": [],
   "source": [
    "\n",
    "# scaler.fit(X_in)\n",
    "# scaler.fit(X_out)\n",
    "# scaler.fit(X)"
   ]
  },
  {
   "cell_type": "code",
   "execution_count": 25,
   "id": "8ce48171",
   "metadata": {},
   "outputs": [
    {
     "data": {
      "text/plain": [
       "((108425, 120), (108425, 120), (108425, 240), (108425, 1))"
      ]
     },
     "execution_count": 25,
     "metadata": {},
     "output_type": "execute_result"
    }
   ],
   "source": [
    "X_in.shape,X_out.shape,X.shape,Y.shape"
   ]
  },
  {
   "cell_type": "code",
   "execution_count": 26,
   "id": "09e6afcb",
   "metadata": {},
   "outputs": [],
   "source": [
    "yin = normal['temp_in_value'].iloc[0]\n",
    "yout = normal['temp_out_value'].iloc[0]"
   ]
  },
  {
   "cell_type": "code",
   "execution_count": 27,
   "id": "1c1ab1bf",
   "metadata": {},
   "outputs": [],
   "source": [
    "from sklearn.preprocessing import PolynomialFeatures"
   ]
  },
  {
   "cell_type": "code",
   "execution_count": 28,
   "id": "40ce9ad7",
   "metadata": {},
   "outputs": [],
   "source": [
    "degree = 2\n",
    "features = PolynomialFeatures(degree = degree, include_bias = False)\n",
    "x = np.arange(0, len(yin)).reshape(-1, 1)\n",
    "xpoly = features.fit_transform(x)"
   ]
  },
  {
   "cell_type": "code",
   "execution_count": 29,
   "id": "a3e5b772",
   "metadata": {},
   "outputs": [],
   "source": [
    "from sklearn.linear_model import LinearRegression"
   ]
  },
  {
   "cell_type": "code",
   "execution_count": 30,
   "id": "f781d0cc",
   "metadata": {},
   "outputs": [
    {
     "data": {
      "text/plain": [
       "0.5835996532143298"
      ]
     },
     "execution_count": 30,
     "metadata": {},
     "output_type": "execute_result"
    }
   ],
   "source": [
    "model = LinearRegression()\n",
    "model.fit(xpoly, yin)\n",
    "model.score(xpoly, yin)"
   ]
  },
  {
   "cell_type": "code",
   "execution_count": 31,
   "id": "875b18c5",
   "metadata": {},
   "outputs": [
    {
     "data": {
      "text/plain": [
       "19.261249902005734"
      ]
     },
     "execution_count": 31,
     "metadata": {},
     "output_type": "execute_result"
    }
   ],
   "source": [
    "model.intercept_"
   ]
  },
  {
   "cell_type": "code",
   "execution_count": 32,
   "id": "6d96b917",
   "metadata": {},
   "outputs": [
    {
     "data": {
      "text/plain": [
       "array([-0.03283509,  0.00027291])"
      ]
     },
     "execution_count": 32,
     "metadata": {},
     "output_type": "execute_result"
    }
   ],
   "source": [
    "model.coef_"
   ]
  },
  {
   "cell_type": "code",
   "execution_count": 33,
   "id": "f3bf7072",
   "metadata": {},
   "outputs": [],
   "source": [
    "yin = normal['temp_in_value'].iloc[0]\n",
    "yout = normal['temp_out_value'].iloc[0]"
   ]
  },
  {
   "cell_type": "code",
   "execution_count": 34,
   "id": "e5f2de7b",
   "metadata": {},
   "outputs": [],
   "source": [
    "x=  np.arange(0,len(yin)).reshape(-1, 1)"
   ]
  },
  {
   "cell_type": "code",
   "execution_count": 35,
   "id": "c14ee91a",
   "metadata": {},
   "outputs": [
    {
     "data": {
      "text/plain": [
       "0.001049241900366149"
      ]
     },
     "execution_count": 35,
     "metadata": {},
     "output_type": "execute_result"
    }
   ],
   "source": [
    "lmodel = LinearRegression()\n",
    "lmodel.fit(x, yin)\n",
    "lmodel.score(x, yin)"
   ]
  },
  {
   "cell_type": "code",
   "execution_count": 36,
   "id": "3d614ee5",
   "metadata": {},
   "outputs": [
    {
     "data": {
      "text/plain": [
       "18.622549784541324"
      ]
     },
     "execution_count": 36,
     "metadata": {},
     "output_type": "execute_result"
    }
   ],
   "source": [
    "lmodel.intercept_"
   ]
  },
  {
   "cell_type": "code",
   "execution_count": 37,
   "id": "874c30c0",
   "metadata": {},
   "outputs": [
    {
     "data": {
      "text/plain": [
       "array([-0.00035881])"
      ]
     },
     "execution_count": 37,
     "metadata": {},
     "output_type": "execute_result"
    }
   ],
   "source": [
    "lmodel.coef_"
   ]
  },
  {
   "cell_type": "code",
   "execution_count": 41,
   "id": "ecfcc450",
   "metadata": {},
   "outputs": [
    {
     "data": {
      "text/plain": [
       "LogisticRegression()"
      ]
     },
     "execution_count": 41,
     "metadata": {},
     "output_type": "execute_result"
    }
   ],
   "source": [
    "from sklearn.linear_model import LogisticRegression\n",
    "rmodel = LogisticRegression()\n",
    "rmodel.fit(X, Y)"
   ]
  },
  {
   "cell_type": "code",
   "execution_count": 42,
   "id": "bacd2d01",
   "metadata": {},
   "outputs": [
    {
     "data": {
      "text/plain": [
       "array([-0.27266288])"
      ]
     },
     "execution_count": 42,
     "metadata": {},
     "output_type": "execute_result"
    }
   ],
   "source": [
    "rmodel.intercept_"
   ]
  },
  {
   "cell_type": "code",
   "execution_count": 43,
   "id": "02cbf29c",
   "metadata": {},
   "outputs": [
    {
     "data": {
      "text/plain": [
       "array([[ 1.77486587e-01,  1.28580179e-01,  6.36439435e-02,\n",
       "         4.70499776e-02,  1.87620122e-02, -4.15022288e-04,\n",
       "         6.10782442e-03,  4.17574244e-03,  1.75489992e-02,\n",
       "         3.17988257e-02,  1.26029071e-02,  1.19631619e-02,\n",
       "         1.44340248e-02,  2.07171649e-02, -4.49633229e-04,\n",
       "        -2.44186013e-03, -1.11143875e-03,  8.69781481e-04,\n",
       "         2.53115992e-02,  1.50622217e-03,  1.61650637e-02,\n",
       "         9.72677962e-03, -3.67769496e-03,  7.66342144e-03,\n",
       "         2.03694061e-02,  1.46491905e-03, -3.61989141e-03,\n",
       "        -1.91669918e-04,  1.92275885e-03, -1.04689580e-02,\n",
       "        -3.54835079e-03, -8.35816203e-03, -1.44548390e-03,\n",
       "         7.40150448e-03,  5.38302627e-03, -2.92832527e-03,\n",
       "        -5.76954114e-03,  6.91706188e-03,  3.31587233e-03,\n",
       "        -5.18044585e-03,  1.26688154e-03, -1.33485213e-02,\n",
       "         1.27882398e-03,  7.38065338e-03, -2.94325143e-03,\n",
       "        -3.64557240e-03,  6.89158144e-04,  1.30034240e-02,\n",
       "        -8.09879412e-04, -3.83326668e-03, -1.13252123e-02,\n",
       "        -2.80525943e-02, -2.70457567e-04,  8.28898083e-03,\n",
       "         2.08748962e-03, -6.53755096e-03, -2.62980964e-04,\n",
       "        -1.22939159e-02, -1.34481443e-02, -1.63497647e-02,\n",
       "        -2.96179435e-03,  1.57031070e-02,  1.38867375e-02,\n",
       "         7.05922109e-04, -6.92765910e-03, -4.56860886e-03,\n",
       "         5.10205251e-04,  2.42196639e-03, -6.25486566e-04,\n",
       "         1.22235840e-02,  1.25154080e-02,  1.16664759e-02,\n",
       "         3.54152093e-03, -1.31037338e-03,  9.92155337e-03,\n",
       "        -4.89022579e-03, -1.56753509e-02, -7.35993464e-04,\n",
       "         1.04544622e-02,  4.40935923e-04, -4.68384180e-03,\n",
       "         6.26264207e-03,  1.52893751e-02,  1.38110539e-02,\n",
       "        -4.87811753e-03,  7.67884138e-03,  8.50306692e-03,\n",
       "        -6.98166621e-03, -6.80010419e-03, -5.60493217e-03,\n",
       "        -1.85954707e-02, -1.73735452e-02,  4.34234160e-03,\n",
       "         9.42130420e-03,  1.42930846e-03,  3.09997519e-03,\n",
       "        -1.02045894e-02,  1.88124842e-03,  2.20492576e-02,\n",
       "         9.69853654e-03,  3.66351002e-03, -7.43342765e-03,\n",
       "         8.47276157e-03,  1.89703925e-02,  5.58264725e-03,\n",
       "         1.62462778e-02,  8.01004761e-03,  1.14480171e-02,\n",
       "         4.26921651e-03,  7.31458146e-03,  3.70879505e-03,\n",
       "        -1.06924878e-02, -8.59593293e-03, -6.83949291e-03,\n",
       "        -2.30865880e-02, -3.73254752e-02, -6.41116179e-02,\n",
       "        -9.89871258e-02, -1.63376651e-01, -2.29404299e-01,\n",
       "         1.27100956e-01,  6.50697535e-02,  3.24202987e-02,\n",
       "        -3.84030411e-03,  3.89527358e-02,  1.34365613e-02,\n",
       "         3.99829985e-02, -6.03066478e-03, -1.65667929e-02,\n",
       "         1.54963001e-02,  4.18661576e-02,  2.92265557e-02,\n",
       "         1.05870802e-02, -1.70628418e-03,  5.82846997e-03,\n",
       "         1.94735795e-02,  3.15553457e-03, -1.47588222e-02,\n",
       "         6.45089183e-03,  2.80471585e-02, -2.64508510e-02,\n",
       "        -1.56634890e-02,  2.15458080e-02,  2.50700592e-02,\n",
       "         1.47801091e-02,  1.14594155e-03,  4.82942040e-03,\n",
       "        -2.11665637e-03, -1.61217912e-03, -2.19225669e-02,\n",
       "         5.80076437e-04, -1.08525993e-02,  8.70753291e-03,\n",
       "        -1.49981087e-02, -1.94447031e-03,  3.85916580e-04,\n",
       "        -2.19898229e-02, -6.22088350e-03,  1.60028311e-02,\n",
       "         9.25376812e-03, -1.31166713e-02, -2.04049578e-02,\n",
       "         4.62047741e-03,  1.42509990e-02,  7.61655387e-03,\n",
       "         2.62022184e-03, -3.94212698e-03, -1.32520430e-02,\n",
       "        -2.32888968e-02, -2.61876592e-03, -1.28269176e-02,\n",
       "         1.07506658e-02,  1.99022623e-02,  1.15219675e-03,\n",
       "         1.25952988e-02, -1.65170125e-02, -1.52416201e-02,\n",
       "        -2.17887323e-02,  7.49516889e-03,  1.45695468e-02,\n",
       "         5.69635172e-04,  1.40702815e-02,  1.23599275e-02,\n",
       "        -8.45998785e-03, -8.50028546e-03, -7.94268351e-03,\n",
       "         5.92740860e-03,  6.33585191e-04,  6.77921846e-04,\n",
       "        -2.43725462e-03, -1.21809074e-02, -5.26417339e-03,\n",
       "         8.13013360e-03, -1.45431706e-02,  7.51125301e-03,\n",
       "        -1.87344661e-03,  3.78114206e-04, -1.83878196e-02,\n",
       "         1.66114180e-02,  1.43179284e-02,  1.26781900e-02,\n",
       "         2.53962200e-03, -1.06492033e-03,  1.02647101e-03,\n",
       "        -1.02064629e-02,  1.95339174e-03, -4.44758134e-03,\n",
       "         2.93368007e-03, -9.09759896e-05, -3.15787692e-02,\n",
       "         5.71221282e-03,  1.52238753e-03, -2.66613978e-03,\n",
       "         2.45273721e-03,  1.99462084e-02, -1.52626251e-02,\n",
       "        -1.16233144e-02, -2.38103542e-02, -1.17764614e-02,\n",
       "        -2.85019260e-03,  4.97214868e-03,  1.35823111e-02,\n",
       "         2.72538251e-03, -3.79666705e-04, -1.59611984e-02,\n",
       "        -3.85818733e-03,  2.33730877e-03,  6.95942706e-03,\n",
       "         6.68046782e-03, -1.81166575e-03, -9.72142008e-03,\n",
       "        -5.20171514e-03,  3.50571955e-03, -1.45368720e-02,\n",
       "        -3.35655612e-02, -2.55046765e-02, -5.01177350e-02,\n",
       "        -6.74093998e-02, -1.07098811e-01, -1.55598965e-01]])"
      ]
     },
     "execution_count": 43,
     "metadata": {},
     "output_type": "execute_result"
    }
   ],
   "source": [
    "rmodel.coef_"
   ]
  },
  {
   "cell_type": "code",
   "execution_count": 44,
   "id": "5439e60a",
   "metadata": {},
   "outputs": [
    {
     "data": {
      "text/plain": [
       "0.9037952501729306"
      ]
     },
     "execution_count": 44,
     "metadata": {},
     "output_type": "execute_result"
    }
   ],
   "source": [
    "rmodel.score(X, Y)"
   ]
  },
  {
   "cell_type": "code",
   "execution_count": null,
   "id": "a70c31e1",
   "metadata": {},
   "outputs": [],
   "source": []
  }
 ],
 "metadata": {
  "kernelspec": {
   "display_name": "silcream",
   "language": "python",
   "name": "silcream"
  },
  "language_info": {
   "codemirror_mode": {
    "name": "ipython",
    "version": 3
   },
   "file_extension": ".py",
   "mimetype": "text/x-python",
   "name": "python",
   "nbconvert_exporter": "python",
   "pygments_lexer": "ipython3",
   "version": "3.7.13"
  }
 },
 "nbformat": 4,
 "nbformat_minor": 5
}
