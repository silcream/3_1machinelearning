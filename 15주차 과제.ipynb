{
 "cells": [
  {
   "cell_type": "code",
   "execution_count": 1,
   "id": "bb26cea3",
   "metadata": {},
   "outputs": [],
   "source": [
    "dach_length = [55, 57, 64, 63, 58, 49, 54, 61]\n",
    "dach_height = [30, 31, 36, 30, 33, 25, 37, 34]\n",
    "jin_length = [56, 47, 56, 46, 49, 53, 52, 48]\n",
    "jin_height = [52, 52, 50, 53, 50, 53, 49, 54]"
   ]
  },
  {
   "cell_type": "code",
   "execution_count": 2,
   "id": "eefb65ba",
   "metadata": {},
   "outputs": [
    {
     "name": "stdout",
     "output_type": "stream",
     "text": [
      "dogs : [[55 30]\n",
      " [57 31]\n",
      " [64 36]\n",
      " [63 30]\n",
      " [58 33]\n",
      " [49 25]\n",
      " [54 37]\n",
      " [61 34]\n",
      " [56 52]\n",
      " [47 52]\n",
      " [56 50]\n",
      " [46 53]\n",
      " [49 50]\n",
      " [53 53]\n",
      " [52 49]\n",
      " [48 54]]\n",
      "labels : [0, 0, 0, 0, 0, 0, 0, 0, 1, 1, 1, 1, 1, 1, 1, 1]\n"
     ]
    }
   ],
   "source": [
    "import numpy as np\n",
    "\n",
    "d = np.column_stack((dach_length, dach_height))\n",
    "j = np.column_stack((jin_length, jin_height))\n",
    "X = np.concatenate((d, j))   # 데이터 집합\n",
    "y = [0]*len(d) + [1]*len(j)  # 레이블 집합\n",
    "print('dogs :', X)\n",
    "print('labels :', y)"
   ]
  },
  {
   "cell_type": "code",
   "execution_count": 3,
   "id": "8177f15f",
   "metadata": {},
   "outputs": [
    {
     "data": {
      "text/plain": [
       "Pipeline(steps=[('scaler', StandardScaler()),\n",
       "                ('linearSVC', LinearSVC(C=1, loss='hinge'))])"
      ]
     },
     "execution_count": 3,
     "metadata": {},
     "output_type": "execute_result"
    }
   ],
   "source": [
    "from sklearn.pipeline import Pipeline\n",
    "from sklearn.preprocessing import StandardScaler\n",
    "from sklearn.svm import LinearSVC\n",
    "\n",
    "svm = Pipeline([  # 표준 스케일러, 선형 SVM 분류기를 파이프라인에 넘겨줌\n",
    "               ('scaler', StandardScaler()),\n",
    "               ('linearSVC', LinearSVC(C=1, loss='hinge'))\n",
    "])\n",
    "svm.fit(X, y)     # 이 svm 파이프라인에 X, y 값을 넣어 학습시킴"
   ]
  },
  {
   "cell_type": "code",
   "execution_count": 4,
   "id": "6a921363",
   "metadata": {},
   "outputs": [
    {
     "name": "stdout",
     "output_type": "stream",
     "text": [
      "데이터 : [59, 35] , 판정 결과: Dachshund\n",
      "데이터 : [53, 54] , 판정 결과: Jindo dog\n"
     ]
    }
   ],
   "source": [
    "dog_classes = {0:'Dachshund', 1:'Jindo dog'}\n",
    "data1, data2 = [59, 35], [53, 54]\n",
    "y_pred = svm.predict([data1])\n",
    "print('데이터 :', data1, ', 판정 결과:', dog_classes[y_pred[0]])\n",
    "y_pred = svm.predict([data2])\n",
    "print('데이터 :', data2, ', 판정 결과:', dog_classes[y_pred[0]])"
   ]
  },
  {
   "cell_type": "code",
   "execution_count": 5,
   "id": "6b52cdb2",
   "metadata": {},
   "outputs": [
    {
     "data": {
      "text/html": [
       "<div>\n",
       "<style scoped>\n",
       "    .dataframe tbody tr th:only-of-type {\n",
       "        vertical-align: middle;\n",
       "    }\n",
       "\n",
       "    .dataframe tbody tr th {\n",
       "        vertical-align: top;\n",
       "    }\n",
       "\n",
       "    .dataframe thead th {\n",
       "        text-align: right;\n",
       "    }\n",
       "</style>\n",
       "<table border=\"1\" class=\"dataframe\">\n",
       "  <thead>\n",
       "    <tr style=\"text-align: right;\">\n",
       "      <th></th>\n",
       "      <th>x1</th>\n",
       "      <th>x2</th>\n",
       "      <th>y</th>\n",
       "    </tr>\n",
       "  </thead>\n",
       "  <tbody>\n",
       "    <tr>\n",
       "      <th>997</th>\n",
       "      <td>-4.634470</td>\n",
       "      <td>0.300158</td>\n",
       "      <td>0</td>\n",
       "    </tr>\n",
       "    <tr>\n",
       "      <th>998</th>\n",
       "      <td>1.426275</td>\n",
       "      <td>-2.765590</td>\n",
       "      <td>1</td>\n",
       "    </tr>\n",
       "    <tr>\n",
       "      <th>999</th>\n",
       "      <td>1.988053</td>\n",
       "      <td>1.466494</td>\n",
       "      <td>1</td>\n",
       "    </tr>\n",
       "  </tbody>\n",
       "</table>\n",
       "</div>"
      ],
      "text/plain": [
       "           x1        x2  y\n",
       "997 -4.634470  0.300158  0\n",
       "998  1.426275 -2.765590  1\n",
       "999  1.988053  1.466494  1"
      ]
     },
     "execution_count": 5,
     "metadata": {},
     "output_type": "execute_result"
    }
   ],
   "source": [
    "import pandas as pd\n",
    "import numpy as np\n",
    "\n",
    "data_loc = 'https://github.com/dongupak/DataML/raw/main/csv/'\n",
    "df = pd.read_csv(data_loc + 'two_classes.csv')\n",
    "df.tail(3)"
   ]
  },
  {
   "cell_type": "code",
   "execution_count": 6,
   "id": "4d2dd330",
   "metadata": {},
   "outputs": [
    {
     "data": {
      "text/plain": [
       "<matplotlib.collections.PathCollection at 0x1a08559f8c8>"
      ]
     },
     "execution_count": 6,
     "metadata": {},
     "output_type": "execute_result"
    },
    {
     "data": {
      "image/png": "[encoded data removed]",
      "text/plain": [
       "<Figure size 432x288 with 1 Axes>"
      ]
     },
     "metadata": {
      "needs_background": "light"
     },
     "output_type": "display_data"
    }
   ],
   "source": [
    "df_positive = df[df['y']==1]    \n",
    "df_negative = df[df['y']==0]  \n",
    "import matplotlib.pyplot as plt\n",
    "plt.scatter(df_positive['x1'], df_positive['x2'], color='r')\n",
    "plt.scatter(df_negative['x1'], df_negative['x2'], color='g')"
   ]
  },
  {
   "cell_type": "code",
   "execution_count": 7,
   "id": "fff31d23",
   "metadata": {},
   "outputs": [
    {
     "data": {
      "text/plain": [
       "Pipeline(steps=[('scaler', StandardScaler()),\n",
       "                ('linearSVC', LinearSVC(C=1, loss='hinge'))])"
      ]
     },
     "execution_count": 7,
     "metadata": {},
     "output_type": "execute_result"
    }
   ],
   "source": [
    "from sklearn.pipeline import Pipeline\n",
    "from sklearn.preprocessing import StandardScaler\n",
    "from sklearn.svm import LinearSVC\n",
    "X = df[['x1', 'x2']].to_numpy()         \n",
    "y = df['y']                            \n",
    "svm = Pipeline([('scaler', StandardScaler()),\n",
    "                ('linearSVC', LinearSVC(C=1, loss='hinge'))\n",
    "])\n",
    "svm.fit(X, y)    "
   ]
  },
  {
   "cell_type": "code",
   "execution_count": 9,
   "id": "eb3055aa",
   "metadata": {},
   "outputs": [
    {
     "data": {
      "text/plain": [
       "array([1, 1, 0, 1], dtype=int64)"
      ]
     },
     "execution_count": 9,
     "metadata": {},
     "output_type": "execute_result"
    }
   ],
   "source": [
    "svm.predict([[0.17, 0.06], [6, 25], [-20, 5], [7, 21]])"
   ]
  },
  {
   "cell_type": "code",
   "execution_count": null,
   "id": "361c29cc",
   "metadata": {},
   "outputs": [],
   "source": []
  }
 ],
 "metadata": {
  "kernelspec": {
   "display_name": "silcream",
   "language": "python",
   "name": "silcream"
  },
  "language_info": {
   "codemirror_mode": {
    "name": "ipython",
    "version": 3
   },
   "file_extension": ".py",
   "mimetype": "text/x-python",
   "name": "python",
   "nbconvert_exporter": "python",
   "pygments_lexer": "ipython3",
   "version": "3.7.13"
  }
 },
 "nbformat": 4,
 "nbformat_minor": 5
}
