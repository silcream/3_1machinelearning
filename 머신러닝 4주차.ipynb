{
 "cells": [
  {
   "cell_type": "code",
   "execution_count": 15,
   "id": "99ae7176",
   "metadata": {},
   "outputs": [],
   "source": [
    "import warnings\n",
    "warnings.filterwarnings('ignore')"
   ]
  },
  {
   "cell_type": "code",
   "execution_count": 16,
   "id": "310ef61f",
   "metadata": {},
   "outputs": [],
   "source": [
    "import numpy as np\n",
    "import matplotlib.pyplot as plt"
   ]
  },
  {
   "cell_type": "code",
   "execution_count": 17,
   "id": "e6614afa",
   "metadata": {},
   "outputs": [],
   "source": [
    "np.random.seed(100)\n",
    "data1 = np.random.normal(100, 10, 200)\n",
    "data2 = np.random.normal(100, 40, 200)\n",
    "data3 = np.random.normal(80, 40, 200)\n",
    "data4 = np.random.normal(80, 60, 200)"
   ]
  },
  {
   "cell_type": "code",
   "execution_count": 18,
   "id": "1e6d97bb",
   "metadata": {},
   "outputs": [
    {
     "data": {
      "text/plain": [
       "{'whiskers': [<matplotlib.lines.Line2D at 0x212a132e888>,\n",
       "  <matplotlib.lines.Line2D at 0x212a132e648>,\n",
       "  <matplotlib.lines.Line2D at 0x212a1339b08>,\n",
       "  <matplotlib.lines.Line2D at 0x212a132ebc8>,\n",
       "  <matplotlib.lines.Line2D at 0x212a134c2c8>,\n",
       "  <matplotlib.lines.Line2D at 0x212a1339a48>,\n",
       "  <matplotlib.lines.Line2D at 0x212a135bc48>,\n",
       "  <matplotlib.lines.Line2D at 0x212a1362708>],\n",
       " 'caps': [<matplotlib.lines.Line2D at 0x212a1333648>,\n",
       "  <matplotlib.lines.Line2D at 0x212a132ed88>,\n",
       "  <matplotlib.lines.Line2D at 0x212a1333e48>,\n",
       "  <matplotlib.lines.Line2D at 0x212a1344ec8>,\n",
       "  <matplotlib.lines.Line2D at 0x212a1347208>,\n",
       "  <matplotlib.lines.Line2D at 0x212a134c608>,\n",
       "  <matplotlib.lines.Line2D at 0x212a135b188>,\n",
       "  <matplotlib.lines.Line2D at 0x212a1360d48>],\n",
       " 'boxes': [<matplotlib.lines.Line2D at 0x212a132bcc8>,\n",
       "  <matplotlib.lines.Line2D at 0x212a13335c8>,\n",
       "  <matplotlib.lines.Line2D at 0x212a1341e88>,\n",
       "  <matplotlib.lines.Line2D at 0x212a130c748>],\n",
       " 'medians': [<matplotlib.lines.Line2D at 0x212a132e5c8>,\n",
       "  <matplotlib.lines.Line2D at 0x212a133da48>,\n",
       "  <matplotlib.lines.Line2D at 0x212a1354c88>,\n",
       "  <matplotlib.lines.Line2D at 0x212a1360708>],\n",
       " 'fliers': [<matplotlib.lines.Line2D at 0x212a132e988>,\n",
       "  <matplotlib.lines.Line2D at 0x212a049d6c8>,\n",
       "  <matplotlib.lines.Line2D at 0x212a1350b88>,\n",
       "  <matplotlib.lines.Line2D at 0x212a1362088>],\n",
       " 'means': []}"
      ]
     },
     "execution_count": 18,
     "metadata": {},
     "output_type": "execute_result"
    },
    {
     "data": {
      "image/png": "[encoded data removed]",
      "text/plain": [
       "<Figure size 432x288 with 1 Axes>"
      ]
     },
     "metadata": {
      "needs_background": "light"
     },
     "output_type": "display_data"
    }
   ],
   "source": [
    "plt.boxplot([data1, data2, data3, data4])"
   ]
  },
  {
   "cell_type": "code",
   "execution_count": null,
   "id": "0a2bb40d",
   "metadata": {},
   "outputs": [],
   "source": []
  },
  {
   "cell_type": "code",
   "execution_count": null,
   "id": "bc8be4ad",
   "metadata": {},
   "outputs": [],
   "source": []
  },
  {
   "cell_type": "code",
   "execution_count": null,
   "id": "06234441",
   "metadata": {},
   "outputs": [],
   "source": []
  }
 ],
 "metadata": {
  "kernelspec": {
   "display_name": "sseun",
   "language": "python",
   "name": "seun"
  },
  "language_info": {
   "codemirror_mode": {
    "name": "ipython",
    "version": 3
   },
   "file_extension": ".py",
   "mimetype": "text/x-python",
   "name": "python",
   "nbconvert_exporter": "python",
   "pygments_lexer": "ipython3",
   "version": "3.7.10"
  }
 },
 "nbformat": 4,
 "nbformat_minor": 5
}
