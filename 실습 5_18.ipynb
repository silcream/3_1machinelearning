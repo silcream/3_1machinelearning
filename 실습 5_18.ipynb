{
 "cells": [
  {
   "cell_type": "code",
   "execution_count": 1,
   "id": "c8ec2785",
   "metadata": {},
   "outputs": [
    {
     "data": {
      "text/plain": [
       "<matplotlib.collections.PathCollection at 0x2a7c9b42088>"
      ]
     },
     "execution_count": 1,
     "metadata": {},
     "output_type": "execute_result"
    },
    {
     "data": {
      "image/png": "[encoded data removed]",
      "text/plain": [
       "<Figure size 432x288 with 1 Axes>"
      ]
     },
     "metadata": {
      "needs_background": "light"
     },
     "output_type": "display_data"
    }
   ],
   "source": [
    "import matplotlib.pyplot as plt\n",
    "\n",
    "# 닥스훈트의 길이와 높이 데이터\n",
    "dach_length = [55, 57, 64, 63, 58, 49, 54, 61]\n",
    "dach_height = [30, 31, 36, 30, 33, 25, 37, 34]\n",
    "# 진돗개의 길이와 높이 데이터\n",
    "jin_length = [56, 47, 56, 46, 49, 53, 52, 48]\n",
    "jin_height = [52, 52, 50, 53, 50, 53, 49, 54]\n",
    "\n",
    "plt.scatter(dach_length, dach_height, c='r', label='Dachshund')\n",
    "plt.scatter(jin_length, jin_height,c='b',marker='^', label='Jindo dog')\n",
    "\n",
    "plt.xlabel('Length')             \n",
    "plt.ylabel('Height')             \n",
    "plt.title(\"Dog size\")\n",
    "plt.legend(loc='upper right')\n",
    "\n",
    "newdata_length = [59]    # 새로운 데이터의 길이\n",
    "newdata_height = [35]    # 새로운 데이터의 높이\n",
    "\n",
    "# 새 데이터의 표식은 오각형(pentagon)으로 설정하고, 레이블은 new Data로\n",
    "plt.scatter(newdata_length, newdata_height, s=100, marker='p',\\\n",
    "            c='g', label='new Data')"
   ]
  },
  {
   "cell_type": "code",
   "execution_count": 4,
   "id": "ac3d0575",
   "metadata": {},
   "outputs": [
    {
     "name": "stdout",
     "output_type": "stream",
     "text": [
      "데이터 [[59, 35], [52, 38], [49, 30], [57, 45]] , 판정 결과: 닥스훈트\n",
      "데이터 [[59, 35], [52, 38], [49, 30], [57, 45]] , 판정 결과: 닥스훈트\n",
      "데이터 [[59, 35], [52, 38], [49, 30], [57, 45]] , 판정 결과: 닥스훈트\n",
      "데이터 [[59, 35], [52, 38], [49, 30], [57, 45]] , 판정 결과: 진돗개\n"
     ]
    }
   ],
   "source": [
    "import numpy as np\n",
    "from sklearn.neighbors import KNeighborsClassifier \n",
    "from sklearn import metrics \n",
    "\n",
    "# 닥스훈트의 길이와 높이 데이터\n",
    "dach_length = [55, 57, 64, 63, 58, 49, 54, 61]\n",
    "dach_height = [30, 31, 36, 30, 33, 25, 37, 34]\n",
    "# 진돗개의 길이와 높이 데이터\n",
    "jin_length = [56, 47, 56, 46, 49, 53, 52, 48]\n",
    "jin_height = [52, 52, 50, 53, 50, 53, 49, 54]\n",
    "\n",
    "d_data = np.column_stack((dach_length, dach_height))\n",
    "d_label = np.zeros(len(d_data))   # 닥스훈트는 0으로 레이블링\n",
    "j_data = np.column_stack((jin_length, jin_height))\n",
    "j_label = np.ones(len(j_data))   # 진돗개는 1로 레이블링\n",
    "\n",
    "newdata = [[59, 35],[52, 38],[49, 30],[57, 45]]\n",
    "\n",
    "dogs = np.concatenate((d_data, j_data))\n",
    "labels = np.concatenate((d_label, j_label))\n",
    "\n",
    "dog_classes = {0:'닥스훈트', 1:'진돗개'} \n",
    "\n",
    "k = 3     # k를 3으로 두고 kNN 분류기를 만들어 보자\n",
    "knn = KNeighborsClassifier(n_neighbors = k) \n",
    "knn.fit(dogs, labels)\n",
    "y_pred = knn.predict(newdata)\n",
    "print('데이터', newdata, ', 판정 결과:', dog_classes[y_pred[0]])\n",
    "print('데이터', newdata, ', 판정 결과:', dog_classes[y_pred[1]])\n",
    "print('데이터', newdata, ', 판정 결과:', dog_classes[y_pred[2]])\n",
    "print('데이터', newdata, ', 판정 결과:', dog_classes[y_pred[3]])"
   ]
  },
  {
   "cell_type": "code",
   "execution_count": 5,
   "id": "31a70a78",
   "metadata": {},
   "outputs": [
    {
     "name": "stdout",
     "output_type": "stream",
     "text": [
      "데이터 [[59, 35], [52, 38], [49, 30], [57, 45]] , 판정 결과: 닥스훈트\n",
      "데이터 [[59, 35], [52, 38], [49, 30], [57, 45]] , 판정 결과: 닥스훈트\n",
      "데이터 [[59, 35], [52, 38], [49, 30], [57, 45]] , 판정 결과: 닥스훈트\n",
      "데이터 [[59, 35], [52, 38], [49, 30], [57, 45]] , 판정 결과: 진돗개\n"
     ]
    }
   ],
   "source": [
    "k = 5     # k를 5으로 두고 kNN 분류기를 만들어 보자\n",
    "knn = KNeighborsClassifier(n_neighbors = k) \n",
    "knn.fit(dogs, labels)\n",
    "y_pred = knn.predict(newdata)\n",
    "print('데이터', newdata, ', 판정 결과:', dog_classes[y_pred[0]])\n",
    "print('데이터', newdata, ', 판정 결과:', dog_classes[y_pred[1]])\n",
    "print('데이터', newdata, ', 판정 결과:', dog_classes[y_pred[2]])\n",
    "print('데이터', newdata, ', 판정 결과:', dog_classes[y_pred[3]])"
   ]
  },
  {
   "cell_type": "code",
   "execution_count": null,
   "id": "afc9915b",
   "metadata": {},
   "outputs": [],
   "source": []
  }
 ],
 "metadata": {
  "kernelspec": {
   "display_name": "silcream",
   "language": "python",
   "name": "silcream"
  },
  "language_info": {
   "codemirror_mode": {
    "name": "ipython",
    "version": 3
   },
   "file_extension": ".py",
   "mimetype": "text/x-python",
   "name": "python",
   "nbconvert_exporter": "python",
   "pygments_lexer": "ipython3",
   "version": "3.7.13"
  }
 },
 "nbformat": 4,
 "nbformat_minor": 5
}
