{
 "cells": [
  {
   "cell_type": "code",
   "execution_count": 1,
   "id": "9c12255c",
   "metadata": {},
   "outputs": [],
   "source": [
    "import warnings\n",
    "warnings.filterwarnings(\"ignore\")"
   ]
  },
  {
   "cell_type": "code",
   "execution_count": 2,
   "id": "a0b76ae3",
   "metadata": {},
   "outputs": [],
   "source": [
    "import pandas as pd\n",
    "import numpy as np\n",
    "import matplotlib.pyplot as plt\n",
    "import seaborn as sns\n",
    "import chardet"
   ]
  },
  {
   "cell_type": "code",
   "execution_count": 3,
   "id": "6c7fbfd1",
   "metadata": {},
   "outputs": [
    {
     "name": "stdout",
     "output_type": "stream",
     "text": [
      "shape of diabetes.data:  (442, 10)\n"
     ]
    }
   ],
   "source": [
    "from sklearn import datasets\n",
    "\n",
    "diabetes = datasets.load_diabetes()\n",
    "print('shape of diabetes.data: ', diabetes.data.shape)"
   ]
  },
  {
   "cell_type": "code",
   "execution_count": 4,
   "id": "146dba06",
   "metadata": {},
   "outputs": [],
   "source": [
    "from sklearn.ensemble import RandomForestClassifier\n",
    "from sklearn.metrics import mean_squared_error\n",
    "from sklearn.model_selection import cross_val_score, train_test_split\n",
    "from sklearn.tree import DecisionTreeClassifier\n",
    "from sklearn.svm import SVC\n",
    "from sklearn.linear_model import LinearRegression\n",
    "from sklearn.metrics import accuracy_score"
   ]
  },
  {
   "cell_type": "code",
   "execution_count": 5,
   "id": "effbc54f",
   "metadata": {},
   "outputs": [],
   "source": [
    "trn_df=diabetes.data \n",
    "tst_df=diabetes.target"
   ]
  },
  {
   "cell_type": "code",
   "execution_count": 6,
   "id": "b4022a8f",
   "metadata": {},
   "outputs": [
    {
     "data": {
      "text/plain": [
       "array([[ 0.03807591,  0.05068012,  0.06169621, ..., -0.00259226,\n",
       "         0.01990842, -0.01764613],\n",
       "       [-0.00188202, -0.04464164, -0.05147406, ..., -0.03949338,\n",
       "        -0.06832974, -0.09220405],\n",
       "       [ 0.08529891,  0.05068012,  0.04445121, ..., -0.00259226,\n",
       "         0.00286377, -0.02593034],\n",
       "       ...,\n",
       "       [ 0.04170844,  0.05068012, -0.01590626, ..., -0.01107952,\n",
       "        -0.04687948,  0.01549073],\n",
       "       [-0.04547248, -0.04464164,  0.03906215, ...,  0.02655962,\n",
       "         0.04452837, -0.02593034],\n",
       "       [-0.04547248, -0.04464164, -0.0730303 , ..., -0.03949338,\n",
       "        -0.00421986,  0.00306441]])"
      ]
     },
     "execution_count": 6,
     "metadata": {},
     "output_type": "execute_result"
    }
   ],
   "source": [
    "trn_df"
   ]
  },
  {
   "cell_type": "code",
   "execution_count": 7,
   "id": "a2744a58",
   "metadata": {},
   "outputs": [],
   "source": [
    "X_train, X_test, y_train, y_test = train_test_split(trn_df, tst_df, test_size=0.3, random_state=10)"
   ]
  },
  {
   "cell_type": "code",
   "execution_count": 8,
   "id": "8e7b6204",
   "metadata": {},
   "outputs": [
    {
     "name": "stdout",
     "output_type": "stream",
     "text": [
      "(309, 10) (133, 10) (309,) (133,)\n"
     ]
    }
   ],
   "source": [
    "print(X_train.shape, X_test.shape, y_train.shape, y_test.shape)"
   ]
  },
  {
   "cell_type": "code",
   "execution_count": 9,
   "id": "5f3e0926",
   "metadata": {},
   "outputs": [
    {
     "data": {
      "text/plain": [
       "LinearRegression()"
      ]
     },
     "execution_count": 9,
     "metadata": {},
     "output_type": "execute_result"
    }
   ],
   "source": [
    "model = LinearRegression()\n",
    "model.fit(X_train, y_train)"
   ]
  },
  {
   "cell_type": "code",
   "execution_count": 10,
   "id": "cd82db95",
   "metadata": {},
   "outputs": [],
   "source": [
    "# print('{:.2f}%'.format((model.score(X_train, y_train))*100))"
   ]
  },
  {
   "cell_type": "code",
   "execution_count": 11,
   "id": "f6bcc9be",
   "metadata": {},
   "outputs": [
    {
     "data": {
      "text/plain": [
       "LinearRegression()"
      ]
     },
     "execution_count": 11,
     "metadata": {},
     "output_type": "execute_result"
    }
   ],
   "source": [
    "model = LinearRegression()\n",
    "model.fit(X_test, y_test)"
   ]
  },
  {
   "cell_type": "code",
   "execution_count": 12,
   "id": "169053a6",
   "metadata": {},
   "outputs": [],
   "source": [
    "# print('{:.2f}%'.format((model.score(X_test, y_test))*100))"
   ]
  },
  {
   "cell_type": "code",
   "execution_count": 13,
   "id": "72914c10",
   "metadata": {},
   "outputs": [
    {
     "name": "stdout",
     "output_type": "stream",
     "text": [
      "==== BMI 속성을 학습에 사용한 결과 ===\n",
      "훈련 데이터의 점수 : 46.07%\n",
      "테스트 데이터의 점수 : 54.12%\n"
     ]
    }
   ],
   "source": [
    "print('==== BMI 속성을 학습에 사용한 결과 ===')\n",
    "print('훈련 데이터의 점수 : {:.2f}%'.format((model.score(X_train, y_train))*100))\n",
    "print('테스트 데이터의 점수 : {:.2f}%'.format((model.score(X_test, y_test))*100))"
   ]
  },
  {
   "cell_type": "code",
   "execution_count": 14,
   "id": "c685ae30",
   "metadata": {},
   "outputs": [],
   "source": [
    "# trn_df = pd.DataFrame(trn_df)"
   ]
  },
  {
   "cell_type": "code",
   "execution_count": 15,
   "id": "cdc35a16",
   "metadata": {},
   "outputs": [],
   "source": [
    "from sklearn.preprocessing import StandardScaler\n",
    "\n",
    "scaler = StandardScaler()   \n",
    "scaler = scaler.fit_transform(trn_df)"
   ]
  },
  {
   "cell_type": "code",
   "execution_count": 17,
   "id": "c148a298",
   "metadata": {},
   "outputs": [
    {
     "data": {
      "text/plain": [
       "array([[ 0.80050009,  1.06548848,  1.29708846, ..., -0.05449919,\n",
       "         0.41855058, -0.37098854],\n",
       "       [-0.03956713, -0.93853666, -1.08218016, ..., -0.83030083,\n",
       "        -1.43655059, -1.93847913],\n",
       "       [ 1.79330681,  1.06548848,  0.93453324, ..., -0.05449919,\n",
       "         0.06020733, -0.54515416],\n",
       "       ...,\n",
       "       [ 0.87686984,  1.06548848, -0.33441002, ..., -0.23293356,\n",
       "        -0.98558469,  0.32567395],\n",
       "       [-0.9560041 , -0.93853666,  0.82123474, ...,  0.55838411,\n",
       "         0.93615545, -0.54515416],\n",
       "       [-0.9560041 , -0.93853666, -1.53537419, ..., -0.83030083,\n",
       "        -0.08871747,  0.06442552]])"
      ]
     },
     "execution_count": 17,
     "metadata": {},
     "output_type": "execute_result"
    }
   ],
   "source": [
    "scaler"
   ]
  },
  {
   "cell_type": "code",
   "execution_count": 16,
   "id": "ab4250d1",
   "metadata": {},
   "outputs": [
    {
     "ename": "AttributeError",
     "evalue": "'numpy.ndarray' object has no attribute 'fit_transform'",
     "output_type": "error",
     "traceback": [
      "\u001b[1;31m---------------------------------------------------------------------------\u001b[0m",
      "\u001b[1;31mAttributeError\u001b[0m                            Traceback (most recent call last)",
      "\u001b[1;32m~\\AppData\\Local\\Temp/ipykernel_56224/501349388.py\u001b[0m in \u001b[0;36m<module>\u001b[1;34m\u001b[0m\n\u001b[1;32m----> 1\u001b[1;33m \u001b[0mX_scaled_d\u001b[0m \u001b[1;33m=\u001b[0m \u001b[0mscaler\u001b[0m\u001b[1;33m.\u001b[0m\u001b[0mfit_transform\u001b[0m\u001b[1;33m(\u001b[0m\u001b[0mX_train\u001b[0m\u001b[1;33m)\u001b[0m\u001b[1;33m\u001b[0m\u001b[1;33m\u001b[0m\u001b[0m\n\u001b[0m",
      "\u001b[1;31mAttributeError\u001b[0m: 'numpy.ndarray' object has no attribute 'fit_transform'"
     ]
    }
   ],
   "source": [
    "X_scaled_d = scaler.fit_transform(X_train)"
   ]
  },
  {
   "cell_type": "code",
   "execution_count": null,
   "id": "5720d7c8",
   "metadata": {},
   "outputs": [],
   "source": [
    "# 교차검증시\n",
    "scaler.fit(X_train)\n",
    "X_train = scaler.transform(X_train)\n",
    "X_test = scaler.transform(X_test)"
   ]
  },
  {
   "cell_type": "code",
   "execution_count": null,
   "id": "5fd1e9f7",
   "metadata": {},
   "outputs": [],
   "source": []
  }
 ],
 "metadata": {
  "kernelspec": {
   "display_name": "sseun",
   "language": "python",
   "name": "seun"
  },
  "language_info": {
   "codemirror_mode": {
    "name": "ipython",
    "version": 3
   },
   "file_extension": ".py",
   "mimetype": "text/x-python",
   "name": "python",
   "nbconvert_exporter": "python",
   "pygments_lexer": "ipython3",
   "version": "3.7.10"
  }
 },
 "nbformat": 4,
 "nbformat_minor": 5
}
