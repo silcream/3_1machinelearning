{
 "cells": [
  {
   "cell_type": "code",
   "execution_count": 1,
   "id": "a4b9ca0b",
   "metadata": {},
   "outputs": [],
   "source": [
    "import warnings\n",
    "warnings.filterwarnings(\"ignore\")"
   ]
  },
  {
   "cell_type": "code",
   "execution_count": 2,
   "id": "5c9cf541",
   "metadata": {},
   "outputs": [],
   "source": [
    "import pandas as pd\n",
    "import numpy as np\n",
    "import matplotlib.pyplot as plt\n",
    "import seaborn as sns\n",
    "import chardet"
   ]
  },
  {
   "cell_type": "code",
   "execution_count": 7,
   "id": "71bbd2d8",
   "metadata": {},
   "outputs": [
    {
     "data": {
      "text/plain": [
       "<matplotlib.legend.Legend at 0x19af6741d48>"
      ]
     },
     "execution_count": 7,
     "metadata": {},
     "output_type": "execute_result"
    },
    {
     "data": {
      "image/png": "[encoded data removed]",
      "text/plain": [
       "<Figure size 432x288 with 1 Axes>"
      ]
     },
     "metadata": {
      "needs_background": "light"
     },
     "output_type": "display_data"
    }
   ],
   "source": [
    "import matplotlib.pyplot as plt\n",
    "\n",
    "dach_length = [55, 57, 64, 63, 58, 49, 54, 61]\n",
    "dach_height = [30, 31, 36, 30, 33, 25, 37, 34]\n",
    "jin_length = [56, 47, 56, 46, 49, 53, 52, 48]\n",
    "jin_height = [52, 52, 50, 53, 50, 53, 49, 54]\n",
    "grx = [52]\n",
    "gry = [42]\n",
    "\n",
    "plt.scatter(dach_length, dach_height, c='r', label='Dachshund')\n",
    "plt.scatter(jin_length, jin_height,c='b',marker='^', label='Jindo dog')\n",
    "plt.scatter(grx, gry,c='g',marker='p', s = 100)\n",
    "\n",
    "plt.xlabel('Length')             \n",
    "plt.ylabel('Height')             \n",
    "plt.title(\"Dog size\")\n",
    "plt.legend(loc='upper right')"
   ]
  },
  {
   "cell_type": "code",
   "execution_count": 20,
   "id": "b3b8e9fd",
   "metadata": {},
   "outputs": [
    {
     "name": "stdout",
     "output_type": "stream",
     "text": [
      "k = 1 일 때 판정 결과: 닥스훈트\n",
      "k = 5 일 때 판정 결과: 진돗개\n",
      "k = 9 일 때 판정 결과: 진돗개\n"
     ]
    }
   ],
   "source": [
    "import numpy as np\n",
    "from sklearn.neighbors import KNeighborsClassifier \n",
    "from sklearn import metrics \n",
    "import matplotlib.pyplot as plt\n",
    "\n",
    "dach_length = [55, 57, 64, 63, 58, 49, 54, 61]\n",
    "dach_height = [30, 31, 36, 30, 33, 25, 37, 34]\n",
    "jin_length = [56, 47, 56, 46, 49, 53, 52, 48]\n",
    "jin_height = [52, 52, 50, 53, 50, 53, 49, 54]\n",
    "\n",
    "d_data = np.column_stack((dach_length, dach_height))\n",
    "d_label = np.zeros(len(d_data)) \n",
    "j_data = np.column_stack((jin_length, jin_height))\n",
    "j_label = np.ones(len(j_data)) \n",
    "\n",
    "newdata = [[59, 35]]\n",
    "\n",
    "dogs = np.concatenate((d_data, j_data))\n",
    "labels = np.concatenate((d_label, j_label))\n",
    "\n",
    "dog_classes = {0:'닥스훈트', 1:'진돗개'} \n",
    "\n",
    "k =   1   \n",
    "knn = KNeighborsClassifier(n_neighbors = k)\n",
    "knn.fit(dogs, labels)\n",
    "y_pred = knn.predict(newdata)\n",
    "\n",
    "distances, indexes = knn.kneighbors(newdata)\n",
    "print('k =', k, '일 때 판정 결과:', dog_classes[y_pred[0]])\n",
    "\n",
    "newdata = [[42, 50]]\n",
    "k =   5   \n",
    "knn = KNeighborsClassifier(n_neighbors = k)\n",
    "knn.fit(dogs, labels)\n",
    "y_pred = knn.predict(newdata)\n",
    "\n",
    "distances, indexes = knn.kneighbors(newdata)\n",
    "print('k =', k, '일 때 판정 결과:', dog_classes[y_pred[0]])\n",
    "\n",
    "newdata = [[49, 52]]\n",
    "k =   9  \n",
    "knn = KNeighborsClassifier(n_neighbors = k)\n",
    "knn.fit(dogs, labels)\n",
    "y_pred = knn.predict(newdata)\n",
    "\n",
    "distances, indexes = knn.kneighbors(newdata)\n",
    "print('k =', k, '일 때 판정 결과:', dog_classes[y_pred[0]])"
   ]
  },
  {
   "cell_type": "code",
   "execution_count": 29,
   "id": "dd584c90",
   "metadata": {},
   "outputs": [
    {
     "name": "stdout",
     "output_type": "stream",
     "text": [
      "황제펭귄 :  [[90.  36.2]\n",
      " [98.  39.1]\n",
      " [85.  30.4]\n",
      " [83.  33.6]\n",
      " [73.  22.9]\n",
      " [97.  37.3]\n",
      " [93.  34.2]\n",
      " [80.  31.1]]\n",
      "전투펭귄 :  [[55.   9.6]\n",
      " [65.  10.7]\n",
      " [67.   8.9]\n",
      " [78.  16.3]\n",
      " [81.  18. ]\n",
      " [83.  17.3]\n",
      " [63.   5.9]\n",
      " [77.  16.1]]\n",
      "바위뛰기펭귄 :  [[44.   3.5]\n",
      " [48.   4.1]\n",
      " [58.   4.9]\n",
      " [41.   3. ]\n",
      " [46.   4.8]\n",
      " [57.   5.3]\n",
      " [41.   3.6]\n",
      " [45.   3.8]]\n"
     ]
    }
   ],
   "source": [
    "king = np.array([[90, 36.2],[98,39.1],[85, 30.4], [83, 33.6], [73, 22.9], [97, 37.3], [93, 34.2], [80, 31.1]])\n",
    "print('황제펭귄 : ', king)\n",
    "fight = np.array([[55, 9.6], [65, 10.7], [67, 8.9], [78, 16.3], [81, 18.0], [83, 17.3], [63, 5.9], [77, 16.1]])\n",
    "print('전투펭귄 : ', fight)\n",
    "rock = np.array([[44, 3.5], [48, 4.1], [58, 4.9], [41, 3.0], [46, 4.8], [57, 5.3], [41, 3.6], [45, 3.8]])\n",
    "print('바위뛰기펭귄 : ', rock)"
   ]
  },
  {
   "cell_type": "code",
   "execution_count": 31,
   "id": "f29f12ab",
   "metadata": {},
   "outputs": [
    {
     "data": {
      "text/plain": [
       "array([[90. , 36.2],\n",
       "       [98. , 39.1],\n",
       "       [85. , 30.4],\n",
       "       [83. , 33.6],\n",
       "       [73. , 22.9],\n",
       "       [97. , 37.3],\n",
       "       [93. , 34.2],\n",
       "       [80. , 31.1],\n",
       "       [55. ,  9.6],\n",
       "       [65. , 10.7],\n",
       "       [67. ,  8.9],\n",
       "       [78. , 16.3],\n",
       "       [81. , 18. ],\n",
       "       [83. , 17.3],\n",
       "       [63. ,  5.9],\n",
       "       [77. , 16.1],\n",
       "       [44. ,  3.5],\n",
       "       [48. ,  4.1],\n",
       "       [58. ,  4.9],\n",
       "       [41. ,  3. ],\n",
       "       [46. ,  4.8],\n",
       "       [57. ,  5.3],\n",
       "       [41. ,  3.6],\n",
       "       [45. ,  3.8]])"
      ]
     },
     "execution_count": 31,
     "metadata": {},
     "output_type": "execute_result"
    }
   ],
   "source": [
    "penguins = np.concatenate([king, fight, rock])\n",
    "penguins"
   ]
  },
  {
   "cell_type": "code",
   "execution_count": 32,
   "id": "1b363038",
   "metadata": {},
   "outputs": [
    {
     "data": {
      "text/plain": [
       "[0, 0, 0, 0, 0, 0, 0, 0, 1, 1, 1, 1, 1, 1, 1, 1, 2, 2, 2, 2, 2, 2, 2, 2]"
      ]
     },
     "execution_count": 32,
     "metadata": {},
     "output_type": "execute_result"
    }
   ],
   "source": [
    "labels = [0, 0, 0, 0, 0, 0, 0, 0,  1, 1, 1, 1, 1, 1, 1, 1, 2, 2, 2, 2, 2, 2, 2, 2]\n",
    "labels"
   ]
  },
  {
   "cell_type": "code",
   "execution_count": 46,
   "id": "66535d41",
   "metadata": {},
   "outputs": [
    {
     "name": "stdout",
     "output_type": "stream",
     "text": [
      "k = 1 일 때 : 황제펭귄\n",
      "k = 2 일 때 : 황제펭귄\n",
      "k = 3 일 때 : 전투펭귄\n",
      "k = 4 일 때 : 전투펭귄\n",
      "k = 5 일 때 : 전투펭귄\n"
     ]
    }
   ],
   "source": [
    "a = [[75, 23.1]]\n",
    "b = [[74, 16.6]]\n",
    "c = [[56, 5.4]]\n",
    "d = [[50, 5.3]]\n",
    "e = [[89, 30.1]]\n",
    "\n",
    "penguins_classes = {0:'황제펭귄', 1:'전투펭귄', 2 : '바위뛰기펭귄'} \n",
    "\n",
    "for i in range(1, 6):\n",
    "    k = i\n",
    "    knn = KNeighborsClassifier(n_neighbors = k)\n",
    "    knn.fit(penguins, labels)\n",
    "    y_pred = knn.predict(a)\n",
    "\n",
    "    distances, indexes = knn.kneighbors(a)\n",
    "    print('k =', k, '일 때 :', penguins_classes[y_pred[0]])"
   ]
  },
  {
   "cell_type": "code",
   "execution_count": 47,
   "id": "562cd0ae",
   "metadata": {},
   "outputs": [
    {
     "name": "stdout",
     "output_type": "stream",
     "text": [
      "k = 1 일 때 : 전투펭귄\n",
      "k = 2 일 때 : 전투펭귄\n",
      "k = 3 일 때 : 전투펭귄\n",
      "k = 4 일 때 : 전투펭귄\n",
      "k = 5 일 때 : 전투펭귄\n"
     ]
    }
   ],
   "source": [
    "for i in range(1, 6):\n",
    "    k = i\n",
    "    knn = KNeighborsClassifier(n_neighbors = k)\n",
    "    knn.fit(penguins, labels)\n",
    "    y_pred = knn.predict(b)\n",
    "\n",
    "    distances, indexes = knn.kneighbors(b)\n",
    "    print('k =', k, '일 때 :', penguins_classes[y_pred[0]])"
   ]
  },
  {
   "cell_type": "code",
   "execution_count": 48,
   "id": "3b5cdfb5",
   "metadata": {},
   "outputs": [
    {
     "name": "stdout",
     "output_type": "stream",
     "text": [
      "k = 1 일 때 : 바위뛰기펭귄\n",
      "k = 2 일 때 : 바위뛰기펭귄\n",
      "k = 3 일 때 : 바위뛰기펭귄\n",
      "k = 4 일 때 : 전투펭귄\n",
      "k = 5 일 때 : 바위뛰기펭귄\n"
     ]
    }
   ],
   "source": [
    "for i in range(1, 6):\n",
    "    k = i\n",
    "    knn = KNeighborsClassifier(n_neighbors = k)\n",
    "    knn.fit(penguins, labels)\n",
    "    y_pred = knn.predict(c)\n",
    "\n",
    "    distances, indexes = knn.kneighbors(c)\n",
    "    print('k =', k, '일 때 :', penguins_classes[y_pred[0]])"
   ]
  },
  {
   "cell_type": "code",
   "execution_count": 49,
   "id": "e6b34593",
   "metadata": {},
   "outputs": [
    {
     "name": "stdout",
     "output_type": "stream",
     "text": [
      "k = 1 일 때 : 바위뛰기펭귄\n",
      "k = 2 일 때 : 바위뛰기펭귄\n",
      "k = 3 일 때 : 바위뛰기펭귄\n",
      "k = 4 일 때 : 바위뛰기펭귄\n",
      "k = 5 일 때 : 바위뛰기펭귄\n"
     ]
    }
   ],
   "source": [
    "for i in range(1, 6):\n",
    "    k = i\n",
    "    knn = KNeighborsClassifier(n_neighbors = k)\n",
    "    knn.fit(penguins, labels)\n",
    "    y_pred = knn.predict(d)\n",
    "\n",
    "    distances, indexes = knn.kneighbors(d)\n",
    "    print('k =', k, '일 때 :', penguins_classes[y_pred[0]])"
   ]
  },
  {
   "cell_type": "code",
   "execution_count": 50,
   "id": "e06269ec",
   "metadata": {},
   "outputs": [
    {
     "name": "stdout",
     "output_type": "stream",
     "text": [
      "k = 1 일 때 : 황제펭귄\n",
      "k = 2 일 때 : 황제펭귄\n",
      "k = 3 일 때 : 황제펭귄\n",
      "k = 4 일 때 : 황제펭귄\n",
      "k = 5 일 때 : 황제펭귄\n"
     ]
    }
   ],
   "source": [
    "for i in range(1, 6):\n",
    "    k = i\n",
    "    knn = KNeighborsClassifier(n_neighbors = k)\n",
    "    knn.fit(penguins, labels)\n",
    "    y_pred = knn.predict(e)\n",
    "\n",
    "    distances, indexes = knn.kneighbors(e)\n",
    "    print('k =', k, '일 때 :', penguins_classes[y_pred[0]])"
   ]
  },
  {
   "cell_type": "code",
   "execution_count": 61,
   "id": "52935e12",
   "metadata": {},
   "outputs": [],
   "source": [
    "# plt.scatter(king[],king[1], c='r', label='emperer')\n",
    "# plt.scatter(fight,c='b',marker='^', label='gentoo')\n",
    "# plt.scatter(rock,c='g',marker='p', label='rock')\n",
    "\n",
    "# plt.xlabel('height')             \n",
    "# plt.ylabel('weight')             \n",
    "# plt.title(\"Dog size\")\n",
    "# plt.legend(loc='upper right')"
   ]
  },
  {
   "cell_type": "code",
   "execution_count": 81,
   "id": "6d53079f",
   "metadata": {},
   "outputs": [],
   "source": [
    "from sklearn import cluster\n",
    "def kmeans_predict_plot(data, k):\n",
    "   model = cluster.KMeans(n_clusters=k)\n",
    "   model.fit(data)\n",
    "   labels = model.predict(data)\n",
    "   colors = np.array(['red', 'blue','green'])\n",
    "   markers = np.array(['r', '^','p'])\n",
    "   plt.suptitle('k-Means clustering, k={}'.format(k))\n",
    "   plt.scatter(data[:, 0], data[:, 1], color=colors[labels])"
   ]
  },
  {
   "cell_type": "code",
   "execution_count": 82,
   "id": "6379ec4d",
   "metadata": {},
   "outputs": [
    {
     "data": {
      "image/png": "[encoded data removed]",
      "text/plain": [
       "<Figure size 432x288 with 1 Axes>"
      ]
     },
     "metadata": {
      "needs_background": "light"
     },
     "output_type": "display_data"
    }
   ],
   "source": [
    "kmeans_predict_plot(penguins, k = 3)"
   ]
  },
  {
   "cell_type": "code",
   "execution_count": 105,
   "id": "5cb73c32",
   "metadata": {},
   "outputs": [
    {
     "data": {
      "text/plain": [
       "75"
      ]
     },
     "execution_count": 105,
     "metadata": {},
     "output_type": "execute_result"
    }
   ],
   "source": [
    "a[0][0]"
   ]
  },
  {
   "cell_type": "code",
   "execution_count": 110,
   "id": "28910280",
   "metadata": {},
   "outputs": [
    {
     "data": {
      "text/plain": [
       "<matplotlib.legend.Legend at 0x19afab410c8>"
      ]
     },
     "execution_count": 110,
     "metadata": {},
     "output_type": "execute_result"
    },
    {
     "data": {
      "image/png": "[encoded data removed]",
      "text/plain": [
       "<Figure size 432x288 with 1 Axes>"
      ]
     },
     "metadata": {
      "needs_background": "light"
     },
     "output_type": "display_data"
    }
   ],
   "source": [
    "plt.scatter(king[:, 0], king[:, 1], c='red', label='Emperor Penguine')\n",
    "plt.scatter(fight[:, 0], fight[:, 1],c='blue',marker='^', label='Gentoo Penguine')\n",
    "plt.scatter(rock[:, 0], rock[:, 1],c='green',marker='s', label='Rockhopping Penguine')\n",
    "\n",
    "plt.scatter(a[0][0], a[0][1], label='A', s = 200)\n",
    "plt.scatter(b[0][0], b[0][1], label='B', s = 200)\n",
    "plt.scatter(c[0][0], c[0][1], label='C', s = 200)\n",
    "plt.scatter(d[0][0], d[0][1], label='D', s = 200)\n",
    "plt.scatter(e[0][0], e[0][1], label='E', s = 200)\n",
    "\n",
    "plt.xlabel('Height')             \n",
    "plt.ylabel('Weight')             \n",
    "plt.title(\"Penguine size\")\n",
    "plt.legend(loc='upper left')"
   ]
  },
  {
   "cell_type": "code",
   "execution_count": null,
   "id": "6b013b96",
   "metadata": {},
   "outputs": [],
   "source": []
  },
  {
   "cell_type": "code",
   "execution_count": null,
   "id": "531a638c",
   "metadata": {},
   "outputs": [],
   "source": []
  }
 ],
 "metadata": {
  "kernelspec": {
   "display_name": "silcream",
   "language": "python",
   "name": "silcream"
  },
  "language_info": {
   "codemirror_mode": {
    "name": "ipython",
    "version": 3
   },
   "file_extension": ".py",
   "mimetype": "text/x-python",
   "name": "python",
   "nbconvert_exporter": "python",
   "pygments_lexer": "ipython3",
   "version": "3.7.13"
  }
 },
 "nbformat": 4,
 "nbformat_minor": 5
}
