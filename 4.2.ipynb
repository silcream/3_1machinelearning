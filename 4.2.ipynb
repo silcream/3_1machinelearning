{
 "cells": [
  {
   "cell_type": "code",
   "execution_count": 4,
   "id": "cf1ac8d5",
   "metadata": {},
   "outputs": [],
   "source": [
    "import warnings\n",
    "warnings.filterwarnings('ignore')"
   ]
  },
  {
   "cell_type": "code",
   "execution_count": 7,
   "id": "c6c95207",
   "metadata": {},
   "outputs": [
    {
     "data": {
      "text/plain": [
       "<BarContainer object of 3 artists>"
      ]
     },
     "execution_count": 7,
     "metadata": {},
     "output_type": "execute_result"
    },
    {
     "data": {
      "image/png": "[encoded data removed]",
      "text/plain": [
       "<Figure size 432x288 with 1 Axes>"
      ]
     },
     "metadata": {
      "needs_background": "light"
     },
     "output_type": "display_data"
    }
   ],
   "source": [
    "import matplotlib as mpl\n",
    "import matplotlib.pyplot as plt\n",
    "import numpy as np\n",
    "\n",
    "x = np.arange(3)\n",
    "years = ['2010', '2011', '2012']\n",
    "domestic = [6801, 7695, 8010]\n",
    "foreign = [777, 1046, 1681]\n",
    "\n",
    "plt.barh(x, domestic, height = 0.25)\n",
    "plt.barh(x + 0.3, foreign, height = 0.25)\n",
    "plt.title('20203029 LEE SE EUN')\n",
    "plt.xlabel('JEJU ISLAND')\n",
    "plt.ylabel('YEAR')\n",
    "plt.barh(years, x)"
   ]
  },
  {
   "cell_type": "code",
   "execution_count": null,
   "id": "4b955448",
   "metadata": {},
   "outputs": [],
   "source": []
  }
 ],
 "metadata": {
  "kernelspec": {
   "display_name": "sseun",
   "language": "python",
   "name": "seun"
  },
  "language_info": {
   "codemirror_mode": {
    "name": "ipython",
    "version": 3
   },
   "file_extension": ".py",
   "mimetype": "text/x-python",
   "name": "python",
   "nbconvert_exporter": "python",
   "pygments_lexer": "ipython3",
   "version": "3.7.10"
  }
 },
 "nbformat": 4,
 "nbformat_minor": 5
}
