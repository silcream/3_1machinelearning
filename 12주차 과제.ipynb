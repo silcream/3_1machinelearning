{
 "cells": [
  {
   "cell_type": "code",
   "execution_count": 1,
   "id": "7a585e5c",
   "metadata": {},
   "outputs": [],
   "source": [
    "# libraries\n",
    "import numpy as np\n",
    "import scipy as sp\n",
    "import pandas as pd\n",
    "import matplotlib.pyplot as plt\n",
    "#%matplotlib inline\n",
    "import warnings\n",
    "warnings.filterwarnings(\"ignore\")\n",
    "\n"
   ]
  },
  {
   "cell_type": "code",
   "execution_count": 2,
   "id": "b58c8f71",
   "metadata": {},
   "outputs": [],
   "source": [
    "# read data\n",
    "df = pd.read_csv(r'C:\\Users\\Flora\\3-1교과목 머신러닝\\11주차\\data07_diabetes.csv')\n",
    "X = df.iloc[:,:-1]\n",
    "y = df['Y']"
   ]
  },
  {
   "cell_type": "code",
   "execution_count": 3,
   "id": "28014549",
   "metadata": {},
   "outputs": [],
   "source": [
    "from sklearn.model_selection import train_test_split\n",
    "xtrain,xtest,ytrain,ytest = train_test_split(X,y,test_size=0.75,random_state=0)\n",
    "\n"
   ]
  },
  {
   "cell_type": "code",
   "execution_count": 4,
   "id": "b49080e1",
   "metadata": {},
   "outputs": [
    {
     "name": "stdout",
     "output_type": "stream",
     "text": [
      "linear regression w,b:  [  67.90807464 -260.92893154  645.62270415  278.9011711  -220.0498205\n",
      "  187.29766363 -439.3980303  -100.33313334  575.06910517  -49.45534267] 154.56221569924784\n",
      "linear regression tr score:  0.6281076518522537\n",
      "linear regression test score:  0.43510681849311506\n"
     ]
    }
   ],
   "source": [
    "# linear regression\n",
    "from sklearn.linear_model import LinearRegression\n",
    "f = LinearRegression()\n",
    "f.fit(xtrain,ytrain)\n",
    "print(\"linear regression w,b: \", f.coef_, f.intercept_)\n",
    "print(\"linear regression tr score: \", f.score(xtrain,ytrain))\n",
    "print(\"linear regression test score: \", f.score(xtest,ytest))\n",
    "\n"
   ]
  },
  {
   "cell_type": "code",
   "execution_count": 5,
   "id": "85a2f0a3",
   "metadata": {},
   "outputs": [
    {
     "name": "stdout",
     "output_type": "stream",
     "text": [
      "Ridge w,b:  [  51.45189735  -40.2022934   251.09604975  126.02280127   36.20229689\n",
      "   20.39193404 -175.47820962  152.81367514  219.79636709   87.21041217] 153.43837670523615\n",
      "Ridge tr score:  0.4949810684862713\n",
      "Ridge test score:  0.3777066337055337\n"
     ]
    }
   ],
   "source": [
    "# ridge regression\n",
    "from sklearn.linear_model import Ridge\n",
    "f = Ridge(alpha=0.5)\n",
    "f.fit(xtrain,ytrain)\n",
    "print(\"Ridge w,b: \", f.coef_, f.intercept_)\n",
    "print(\"Ridge tr score: \", f.score(xtrain,ytrain))\n",
    "print(\"Ridge test score: \", f.score(xtest,ytest))\n",
    "\n"
   ]
  },
  {
   "cell_type": "code",
   "execution_count": 6,
   "id": "ae7fcafe",
   "metadata": {},
   "outputs": [
    {
     "name": "stdout",
     "output_type": "stream",
     "text": [
      "Lasso w,b:  [   0.           -0.          538.73484787   57.21043594    0.\n",
      "    0.         -209.71102682    0.          488.81235455    0.        ] 153.4790910912592\n",
      "Lasso tr score:  0.5767629347087475\n",
      "Lasso test score:  0.43296864762792875\n"
     ]
    }
   ],
   "source": [
    "# lasso regression\n",
    "from sklearn.linear_model import Lasso\n",
    "f = Lasso(alpha=0.5)\n",
    "f.fit(xtrain,ytrain)\n",
    "print(\"Lasso w,b: \", f.coef_, f.intercept_)\n",
    "print(\"Lasso tr score: \", f.score(xtrain,ytrain))\n",
    "print(\"Lasso test score: \", f.score(xtest,ytest))\n",
    "\n"
   ]
  },
  {
   "cell_type": "code",
   "execution_count": 7,
   "id": "b41fcdc6",
   "metadata": {},
   "outputs": [
    {
     "name": "stdout",
     "output_type": "stream",
     "text": [
      "Lasso w,b:  [  67.88122771 -260.81790969  645.75012167  278.68610934 -216.00177666\n",
      "  183.88923854 -440.91764875 -100.29306801  573.20651436  -49.32174531] 154.56133057060424\n",
      "Lasso tr score:  0.6281075278770467\n",
      "Lasso test score:  0.43508433794572987\n"
     ]
    }
   ],
   "source": [
    "# lasso regression\n",
    "from sklearn.linear_model import Lasso\n",
    "f = Lasso(alpha=0.0001)\n",
    "f.fit(xtrain,ytrain)\n",
    "print(\"Lasso w,b: \", f.coef_, f.intercept_)\n",
    "print(\"Lasso tr score: \", f.score(xtrain,ytrain))\n",
    "print(\"Lasso test score: \", f.score(xtest,ytest))\n"
   ]
  },
  {
   "cell_type": "code",
   "execution_count": 8,
   "id": "d820d34d",
   "metadata": {},
   "outputs": [
    {
     "name": "stdout",
     "output_type": "stream",
     "text": [
      "Lasso w,b:  [  63.36581043 -250.9965468   651.08350306  262.73491332   -6.20706171\n",
      "    0.         -500.16467089  -73.63255636  470.66985264  -37.67267988] 154.51242141841817\n",
      "Lasso tr score:  0.6275989789083299\n",
      "Lasso test score:  0.4352063470232811\n"
     ]
    }
   ],
   "source": [
    "# lasso regression\n",
    "from sklearn.linear_model import Lasso\n",
    "f = Lasso(alpha=0.01)\n",
    "f.fit(xtrain,ytrain)\n",
    "print(\"Lasso w,b: \", f.coef_, f.intercept_)\n",
    "print(\"Lasso tr score: \", f.score(xtrain,ytrain))\n",
    "print(\"Lasso test score: \", f.score(xtest,ytest))\n"
   ]
  },
  {
   "cell_type": "code",
   "execution_count": 9,
   "id": "08909d1d",
   "metadata": {},
   "outputs": [
    {
     "name": "stdout",
     "output_type": "stream",
     "text": [
      "Lasso w,b:  [  0.          -0.         417.59776303   0.           0.\n",
      "   0.         -65.72520784   1.48394071 445.23459218   0.        ] 153.63473105491457\n",
      "Lasso tr score:  0.4961490948950036\n",
      "Lasso test score:  0.3928440252694777\n"
     ]
    }
   ],
   "source": [
    "# lasso regression\n",
    "from sklearn.linear_model import Lasso\n",
    "f = Lasso(alpha=1)\n",
    "f.fit(xtrain,ytrain)\n",
    "print(\"Lasso w,b: \", f.coef_, f.intercept_)\n",
    "print(\"Lasso tr score: \", f.score(xtrain,ytrain))\n",
    "print(\"Lasso test score: \", f.score(xtest,ytest))\n"
   ]
  },
  {
   "cell_type": "code",
   "execution_count": 10,
   "id": "ecab1acf",
   "metadata": {},
   "outputs": [
    {
     "name": "stdout",
     "output_type": "stream",
     "text": [
      "ElasticNet w,b:  [ 15.36503131   1.46807491  42.92827283  28.27941706  16.19523708\n",
      "  13.25398799 -35.59133922  38.81720121  45.40079117  26.03170844] 153.8978069772954\n",
      "ElasticNet tr score:  0.1482623097971808\n",
      "ElasticNet test score:  0.11795535746913832\n"
     ]
    }
   ],
   "source": [
    "# Elastic Net regression\n",
    "from sklearn.linear_model import ElasticNet\n",
    "f = ElasticNet(alpha=0.1,l1_ratio=0.5)\n",
    "f.fit(xtrain,ytrain)\n",
    "print(\"ElasticNet w,b: \", f.coef_, f.intercept_)\n",
    "print(\"ElasticNet tr score: \", f.score(xtrain,ytrain))\n",
    "print(\"ElasticNet test score: \", f.score(xtest,ytest))\n",
    "\n"
   ]
  },
  {
   "cell_type": "code",
   "execution_count": 11,
   "id": "abb72052",
   "metadata": {},
   "outputs": [
    {
     "data": {
      "image/png": "[encoded data removed]",
      "text/plain": [
       "<Figure size 432x288 with 1 Axes>"
      ]
     },
     "metadata": {
      "needs_background": "light"
     },
     "output_type": "display_data"
    }
   ],
   "source": [
    "# select parameter using cross-validation\n",
    "np.random.seed(0)\n",
    "from sklearn.model_selection import cross_val_score\n",
    "exp = np.linspace(-3,0,21)\n",
    "alphas = 10**exp\n",
    "s1 = np.zeros((len(alphas),3)) # empty space\n",
    "for n in range(s1.shape[0]):\n",
    "    f = Lasso(alpha=alphas[n])\n",
    "    f.fit(xtrain,ytrain)\n",
    "    s1[n,0] = f.score(xtrain,ytrain) #observed\n",
    "    s1[n,1] = cross_val_score(f,xtrain,ytrain,cv=5).mean() #observed\n",
    "    s1[n,2] = f.score(xtest,ytest) #not observed. final result\n",
    "\n",
    "plt.plot(exp,s1[:,0],exp,s1[:,1],exp,s1[:,2],marker='o')\n",
    "plt.legend(('Train','CV','Test'))\n",
    "plt.xlabel('alphas')\n",
    "plt.ylabel('score')\n",
    "plt.show()\n",
    "\n"
   ]
  },
  {
   "cell_type": "code",
   "execution_count": 14,
   "id": "c16fdd88",
   "metadata": {},
   "outputs": [
    {
     "name": "stdout",
     "output_type": "stream",
     "text": [
      "best Lasso alpha:  0.1778279410038923\n",
      "best Lasso w,b:  [   0.         -120.15311164  607.21896882  177.93412178    0.\n",
      "    0.         -345.3232781     0.          475.26518841    0.        ] 154.04970932074258\n",
      "best Lasso tr score:  0.6160312323694284\n",
      "best Lasso test score:  0.44730766534162747\n"
     ]
    }
   ],
   "source": [
    "idx = np.argmax(s1[:,1]) # validation maximum index\n",
    "f = Lasso(alpha=alphas[idx])\n",
    "f.fit(xtrain,ytrain)\n",
    "print(\"best Lasso alpha: \", f.alpha)\n",
    "print(\"best Lasso w,b: \", f.coef_, f.intercept_)\n",
    "print(\"best Lasso tr score: \", f.score(xtrain,ytrain))\n",
    "print(\"best Lasso test score: \", f.score(xtest,ytest))\n",
    "\n"
   ]
  },
  {
   "cell_type": "code",
   "execution_count": null,
   "id": "916dfbb9",
   "metadata": {},
   "outputs": [],
   "source": []
  },
  {
   "cell_type": "code",
   "execution_count": null,
   "id": "17405e80",
   "metadata": {},
   "outputs": [],
   "source": []
  },
  {
   "cell_type": "code",
   "execution_count": null,
   "id": "1da8e594",
   "metadata": {},
   "outputs": [],
   "source": []
  },
  {
   "cell_type": "code",
   "execution_count": null,
   "id": "7f4b36c5",
   "metadata": {},
   "outputs": [],
   "source": []
  }
 ],
 "metadata": {
  "kernelspec": {
   "display_name": "silcream",
   "language": "python",
   "name": "silcream"
  },
  "language_info": {
   "codemirror_mode": {
    "name": "ipython",
    "version": 3
   },
   "file_extension": ".py",
   "mimetype": "text/x-python",
   "name": "python",
   "nbconvert_exporter": "python",
   "pygments_lexer": "ipython3",
   "version": "3.7.13"
  }
 },
 "nbformat": 4,
 "nbformat_minor": 5
}
